{
 "cells": [
  {
   "cell_type": "code",
   "execution_count": 2,
   "metadata": {
    "collapsed": true
   },
   "outputs": [],
   "source": [
    "import pandas as pd\n",
    "import pandas.io.sql as psql\n",
    "import psycopg2 as pg"
   ]
  },
  {
   "cell_type": "code",
   "execution_count": 3,
   "metadata": {
    "collapsed": true
   },
   "outputs": [],
   "source": [
    "# Database connection\n",
    "with pg.connect(database='research') as conn:\n",
    "    sql = 'SELECT full_name, age, size, commits, firm_involvement \\\n",
    "        FROM repositories ORDER BY id LIMIT 150;'\n",
    "    df = psql.read_sql(sql, conn)"
   ]
  },
  {
   "cell_type": "code",
   "execution_count": 6,
   "metadata": {
    "collapsed": false
   },
   "outputs": [
    {
     "data": {
      "text/html": [
       "<div>\n",
       "<table border=\"1\" class=\"dataframe\">\n",
       "  <thead>\n",
       "    <tr style=\"text-align: right;\">\n",
       "      <th></th>\n",
       "      <th>age</th>\n",
       "      <th>size</th>\n",
       "      <th>commits</th>\n",
       "      <th>firm_involvement</th>\n",
       "    </tr>\n",
       "  </thead>\n",
       "  <tbody>\n",
       "    <tr>\n",
       "      <th>age</th>\n",
       "      <td>1.000000</td>\n",
       "      <td>0.126359</td>\n",
       "      <td>0.086464</td>\n",
       "      <td>0.051439</td>\n",
       "    </tr>\n",
       "    <tr>\n",
       "      <th>size</th>\n",
       "      <td>0.126359</td>\n",
       "      <td>1.000000</td>\n",
       "      <td>0.493765</td>\n",
       "      <td>0.181390</td>\n",
       "    </tr>\n",
       "    <tr>\n",
       "      <th>commits</th>\n",
       "      <td>0.086464</td>\n",
       "      <td>0.493765</td>\n",
       "      <td>1.000000</td>\n",
       "      <td>0.300684</td>\n",
       "    </tr>\n",
       "    <tr>\n",
       "      <th>firm_involvement</th>\n",
       "      <td>0.051439</td>\n",
       "      <td>0.181390</td>\n",
       "      <td>0.300684</td>\n",
       "      <td>1.000000</td>\n",
       "    </tr>\n",
       "  </tbody>\n",
       "</table>\n",
       "</div>"
      ],
      "text/plain": [
       "                       age      size   commits  firm_involvement\n",
       "age               1.000000  0.126359  0.086464          0.051439\n",
       "size              0.126359  1.000000  0.493765          0.181390\n",
       "commits           0.086464  0.493765  1.000000          0.300684\n",
       "firm_involvement  0.051439  0.181390  0.300684          1.000000"
      ]
     },
     "execution_count": 6,
     "metadata": {},
     "output_type": "execute_result"
    }
   ],
   "source": [
    "df.corr(method='pearson')"
   ]
  },
  {
   "cell_type": "code",
   "execution_count": null,
   "metadata": {
    "collapsed": true
   },
   "outputs": [],
   "source": []
  }
 ],
 "metadata": {
  "kernelspec": {
   "display_name": "Python 3",
   "language": "python",
   "name": "python3"
  },
  "language_info": {
   "codemirror_mode": {
    "name": "ipython",
    "version": 3
   },
   "file_extension": ".py",
   "mimetype": "text/x-python",
   "name": "python",
   "nbconvert_exporter": "python",
   "pygments_lexer": "ipython3",
   "version": "3.5.1"
  }
 },
 "nbformat": 4,
 "nbformat_minor": 0
}
