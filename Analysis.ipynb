{
 "cells": [
  {
   "cell_type": "code",
   "execution_count": 1,
   "metadata": {
    "collapsed": false,
    "nbpresent": {
     "id": "11ac7301-47dc-46d0-b5d5-11481baf1bae"
    }
   },
   "outputs": [
    {
     "name": "stderr",
     "output_type": "stream",
     "text": [
      "/Users/uu107017/.pyenv/versions/anaconda3-4.2.0/lib/python3.5/site-packages/matplotlib/font_manager.py:273: UserWarning: Matplotlib is building the font cache using fc-list. This may take a moment.\n",
      "  warnings.warn('Matplotlib is building the font cache using fc-list. This may take a moment.')\n",
      "/Users/uu107017/.pyenv/versions/anaconda3-4.2.0/lib/python3.5/site-packages/matplotlib/font_manager.py:273: UserWarning: Matplotlib is building the font cache using fc-list. This may take a moment.\n",
      "  warnings.warn('Matplotlib is building the font cache using fc-list. This may take a moment.')\n"
     ]
    },
    {
     "ename": "ImportError",
     "evalue": "No module named 'psycopg2'",
     "output_type": "error",
     "traceback": [
      "\u001b[0;31m----------------------------------------------------------------------\u001b[0m",
      "\u001b[0;31mImportError\u001b[0m                          Traceback (most recent call last)",
      "\u001b[0;32m<ipython-input-1-ef4a992c1dcb>\u001b[0m in \u001b[0;36m<module>\u001b[0;34m()\u001b[0m\n\u001b[1;32m      5\u001b[0m \u001b[0;32mimport\u001b[0m \u001b[0mscipy\u001b[0m\u001b[0;34m.\u001b[0m\u001b[0mstats\u001b[0m\u001b[0;34m\u001b[0m\u001b[0m\n\u001b[1;32m      6\u001b[0m \u001b[0;32mimport\u001b[0m \u001b[0mpandas\u001b[0m\u001b[0;34m.\u001b[0m\u001b[0mio\u001b[0m\u001b[0;34m.\u001b[0m\u001b[0msql\u001b[0m \u001b[0;32mas\u001b[0m \u001b[0mpsql\u001b[0m\u001b[0;34m\u001b[0m\u001b[0m\n\u001b[0;32m----> 7\u001b[0;31m \u001b[0;32mimport\u001b[0m \u001b[0mpsycopg2\u001b[0m \u001b[0;32mas\u001b[0m \u001b[0mpg\u001b[0m\u001b[0;34m\u001b[0m\u001b[0m\n\u001b[0m\u001b[1;32m      8\u001b[0m \u001b[0;32mfrom\u001b[0m \u001b[0mstatsmodels\u001b[0m \u001b[0;32mimport\u001b[0m \u001b[0mapi\u001b[0m \u001b[0;32mas\u001b[0m \u001b[0msm\u001b[0m\u001b[0;34m\u001b[0m\u001b[0m\n\u001b[1;32m      9\u001b[0m \u001b[0;34m\u001b[0m\u001b[0m\n",
      "\u001b[0;31mImportError\u001b[0m: No module named 'psycopg2'"
     ]
    }
   ],
   "source": [
    "%matplotlib inline\n",
    "import pandas as pd\n",
    "import numpy\n",
    "import matplotlib.pyplot as plt\n",
    "import scipy.stats\n",
    "import pandas.io.sql as psql\n",
    "import psycopg2 as pg\n",
    "from statsmodels import api as sm\n",
    "import itertools\n",
    "matplotlib.style.use('ggplot')\n",
    "\n",
    "# Database connection\n",
    "with pg.connect(database='research') as conn:\n",
    "    sql = 'SELECT full_name, age, size, commits, internal_cohesion, degree_centrality, firm_involvement \\\n",
    "        FROM repositories ORDER BY id LIMIT 1000;'\n",
    "    data = psql.read_sql(sql, conn)\n",
    "\n",
    "sub = data[[\"age\", \"size\", \"commits\", \"internal_cohesion\", \"firm_involvement\", \"degree_centrality\"]]\n",
    "sub_data = sub.copy()\n",
    "\n",
    "sub_data[\"age\"] = pd.to_numeric(sub_data[\"age\"], errors=\"coerce\")\n",
    "sub_data[\"size\"] = pd.to_numeric(sub_data[\"size\"], errors=\"coerce\")\n",
    "sub_data[\"commits\"] = pd.to_numeric(sub_data[\"commits\"], errors=\"coerce\")\n",
    "sub_data[\"internal_cohesion\"] = pd.to_numeric(sub_data[\"internal_cohesion\"], errors=\"coerce\")\n",
    "sub_data[\"firm_involvement\"] = pd.to_numeric(sub_data[\"firm_involvement\"], errors=\"coerce\")\n",
    "sub_data[\"degree_centrality\"] = pd.to_numeric(sub_data[\"degree_centrality\"], errors=\"coerce\")\n",
    "\n",
    "sub_data[\"internal_cohesion_c\"] = sub_data[\"internal_cohesion\"] - sub_data[\"internal_cohesion\"].mean()\n",
    "sub_data[\"degree_centrality_c\"] = sub_data[\"degree_centrality\"] - sub_data[\"degree_centrality\"].mean()\n",
    "sub_data[\"ic_fi\"] = sub_data[\"internal_cohesion\"] * sub_data[\"firm_involvement\"]\n",
    "sub_data[\"dc_fi\"] = sub_data[\"degree_centrality\"] * sub_data[\"firm_involvement\"]\n",
    "sub_data[\"ic_fi_c\"] = sub_data[\"ic_fi\"] - sub_data[\"ic_fi\"].mean()\n",
    "sub_data[\"dc_fi_c\"] = sub_data[\"dc_fi\"] - sub_data[\"dc_fi\"].mean()\n",
    "\n",
    "# TODO check\n",
    "sub_data[\"ic_n\"] = sub_data[\"internal_cohesion\"].div(sub_data[\"internal_cohesion\"].sum(1), axis=0)\n",
    "sub_data[\"dc_n\"] = sub_data[\"degree_centrality\"].div(sub_data[\"degree_centrality\"].sum(1), axis=0)\n"
   ]
  },
  {
   "cell_type": "code",
   "execution_count": null,
   "metadata": {
    "collapsed": true
   },
   "outputs": [],
   "source": [
    "# commits数のヒストグラム\n",
    "commits_hist = plt.figure()\n",
    "sub_data['commits'].plot.hist(bins=10)\n",
    "commits_hist.show()"
   ]
  },
  {
   "cell_type": "code",
   "execution_count": 2,
   "metadata": {
    "collapsed": false
   },
   "outputs": [
    {
     "ename": "NameError",
     "evalue": "name 'itertools' is not defined",
     "output_type": "error",
     "traceback": [
      "\u001b[0;31m----------------------------------------------------------------------\u001b[0m",
      "\u001b[0;31mNameError\u001b[0m                            Traceback (most recent call last)",
      "\u001b[0;32m<ipython-input-2-08759291825c>\u001b[0m in \u001b[0;36m<module>\u001b[0;34m()\u001b[0m\n\u001b[1;32m      2\u001b[0m \u001b[0mfig\u001b[0m \u001b[0;34m=\u001b[0m \u001b[0mplt\u001b[0m\u001b[0;34m.\u001b[0m\u001b[0mfigure\u001b[0m\u001b[0;34m(\u001b[0m\u001b[0;34m)\u001b[0m\u001b[0;34m\u001b[0m\u001b[0m\n\u001b[1;32m      3\u001b[0m \u001b[0mlabels\u001b[0m \u001b[0;34m=\u001b[0m \u001b[0;34m[\u001b[0m\u001b[0;34m'commits'\u001b[0m\u001b[0;34m,\u001b[0m \u001b[0;34m'firm_involvement'\u001b[0m\u001b[0;34m,\u001b[0m \u001b[0;34m'degree_centrality'\u001b[0m\u001b[0;34m,\u001b[0m \u001b[0;34m'internal_cohesion'\u001b[0m\u001b[0;34m]\u001b[0m\u001b[0;34m\u001b[0m\u001b[0m\n\u001b[0;32m----> 4\u001b[0;31m \u001b[0;32mfor\u001b[0m \u001b[0ml1\u001b[0m\u001b[0;34m,\u001b[0m \u001b[0ml2\u001b[0m \u001b[0;32min\u001b[0m \u001b[0mitertools\u001b[0m\u001b[0;34m.\u001b[0m\u001b[0mcombination\u001b[0m\u001b[0;34m(\u001b[0m\u001b[0mlabels\u001b[0m\u001b[0;34m,\u001b[0m \u001b[0;36m2\u001b[0m\u001b[0;34m)\u001b[0m\u001b[0;34m:\u001b[0m\u001b[0;34m\u001b[0m\u001b[0m\n\u001b[0m\u001b[1;32m      5\u001b[0m     \u001b[0msub_data\u001b[0m\u001b[0;34m.\u001b[0m\u001b[0mplot\u001b[0m\u001b[0;34m(\u001b[0m\u001b[0mkind\u001b[0m\u001b[0;34m=\u001b[0m\u001b[0;34m'scatter'\u001b[0m\u001b[0;34m,\u001b[0m \u001b[0mx\u001b[0m\u001b[0;34m=\u001b[0m\u001b[0ml2\u001b[0m\u001b[0;34m,\u001b[0m \u001b[0my\u001b[0m\u001b[0;34m=\u001b[0m\u001b[0ml1\u001b[0m\u001b[0;34m)\u001b[0m\u001b[0;34m\u001b[0m\u001b[0m\n\u001b[1;32m      6\u001b[0m \u001b[0mfig\u001b[0m\u001b[0;34m.\u001b[0m\u001b[0mshow\u001b[0m\u001b[0;34m(\u001b[0m\u001b[0;34m)\u001b[0m\u001b[0;34m\u001b[0m\u001b[0m\n",
      "\u001b[0;31mNameError\u001b[0m: name 'itertools' is not defined"
     ]
    },
    {
     "data": {
      "text/plain": [
       "<matplotlib.figure.Figure at 0x1147925c0>"
      ]
     },
     "metadata": {},
     "output_type": "display_data"
    }
   ],
   "source": [
    "# 散布図\n",
    "fig = plt.figure()\n",
    "labels = ['commits', 'firm_involvement', 'degree_centrality', 'internal_cohesion']\n",
    "for l1, l2 in itertools.combination(labels, 2):\n",
    "    sub_data.plot(kind='scatter', x=l2, y=l1)\n",
    "fig.show()"
   ]
  },
  {
   "cell_type": "code",
   "execution_count": 28,
   "metadata": {
    "collapsed": false,
    "nbpresent": {
     "id": "173cc8bc-4162-4065-9161-923c480f2ae2"
    }
   },
   "outputs": [
    {
     "data": {
      "text/html": [
       "<div>\n",
       "<table border=\"1\" class=\"dataframe\">\n",
       "  <thead>\n",
       "    <tr style=\"text-align: right;\">\n",
       "      <th></th>\n",
       "      <th>age</th>\n",
       "      <th>size</th>\n",
       "      <th>commits</th>\n",
       "      <th>internal_cohesion</th>\n",
       "      <th>firm_involvement</th>\n",
       "      <th>degree_centrality</th>\n",
       "      <th>internal_cohesion_c</th>\n",
       "      <th>degree_centrality_c</th>\n",
       "      <th>ic_fi</th>\n",
       "      <th>dc_fi</th>\n",
       "      <th>ic_fi_c</th>\n",
       "      <th>dc_fi_c</th>\n",
       "    </tr>\n",
       "  </thead>\n",
       "  <tbody>\n",
       "    <tr>\n",
       "      <th>age</th>\n",
       "      <td>1.000000</td>\n",
       "      <td>0.060155</td>\n",
       "      <td>0.141055</td>\n",
       "      <td>0.052815</td>\n",
       "      <td>0.076795</td>\n",
       "      <td>0.114404</td>\n",
       "      <td>0.052815</td>\n",
       "      <td>0.114404</td>\n",
       "      <td>0.077500</td>\n",
       "      <td>0.093701</td>\n",
       "      <td>0.077500</td>\n",
       "      <td>0.093701</td>\n",
       "    </tr>\n",
       "    <tr>\n",
       "      <th>size</th>\n",
       "      <td>0.060155</td>\n",
       "      <td>1.000000</td>\n",
       "      <td>0.262700</td>\n",
       "      <td>0.087520</td>\n",
       "      <td>0.122219</td>\n",
       "      <td>0.180282</td>\n",
       "      <td>0.087520</td>\n",
       "      <td>0.180282</td>\n",
       "      <td>0.141628</td>\n",
       "      <td>0.181857</td>\n",
       "      <td>0.141628</td>\n",
       "      <td>0.181857</td>\n",
       "    </tr>\n",
       "    <tr>\n",
       "      <th>commits</th>\n",
       "      <td>0.141055</td>\n",
       "      <td>0.262700</td>\n",
       "      <td>1.000000</td>\n",
       "      <td>0.434514</td>\n",
       "      <td>0.259657</td>\n",
       "      <td>0.681768</td>\n",
       "      <td>0.434514</td>\n",
       "      <td>0.681768</td>\n",
       "      <td>0.494005</td>\n",
       "      <td>0.649221</td>\n",
       "      <td>0.494005</td>\n",
       "      <td>0.649221</td>\n",
       "    </tr>\n",
       "    <tr>\n",
       "      <th>internal_cohesion</th>\n",
       "      <td>0.052815</td>\n",
       "      <td>0.087520</td>\n",
       "      <td>0.434514</td>\n",
       "      <td>1.000000</td>\n",
       "      <td>0.162507</td>\n",
       "      <td>0.602621</td>\n",
       "      <td>1.000000</td>\n",
       "      <td>0.602621</td>\n",
       "      <td>0.697788</td>\n",
       "      <td>0.503314</td>\n",
       "      <td>0.697788</td>\n",
       "      <td>0.503314</td>\n",
       "    </tr>\n",
       "    <tr>\n",
       "      <th>firm_involvement</th>\n",
       "      <td>0.076795</td>\n",
       "      <td>0.122219</td>\n",
       "      <td>0.259657</td>\n",
       "      <td>0.162507</td>\n",
       "      <td>1.000000</td>\n",
       "      <td>0.196595</td>\n",
       "      <td>0.162507</td>\n",
       "      <td>0.196595</td>\n",
       "      <td>0.459425</td>\n",
       "      <td>0.328013</td>\n",
       "      <td>0.459425</td>\n",
       "      <td>0.328013</td>\n",
       "    </tr>\n",
       "    <tr>\n",
       "      <th>degree_centrality</th>\n",
       "      <td>0.114404</td>\n",
       "      <td>0.180282</td>\n",
       "      <td>0.681768</td>\n",
       "      <td>0.602621</td>\n",
       "      <td>0.196595</td>\n",
       "      <td>1.000000</td>\n",
       "      <td>0.602621</td>\n",
       "      <td>1.000000</td>\n",
       "      <td>0.618430</td>\n",
       "      <td>0.891674</td>\n",
       "      <td>0.618430</td>\n",
       "      <td>0.891674</td>\n",
       "    </tr>\n",
       "    <tr>\n",
       "      <th>internal_cohesion_c</th>\n",
       "      <td>0.052815</td>\n",
       "      <td>0.087520</td>\n",
       "      <td>0.434514</td>\n",
       "      <td>1.000000</td>\n",
       "      <td>0.162507</td>\n",
       "      <td>0.602621</td>\n",
       "      <td>1.000000</td>\n",
       "      <td>0.602621</td>\n",
       "      <td>0.697788</td>\n",
       "      <td>0.503314</td>\n",
       "      <td>0.697788</td>\n",
       "      <td>0.503314</td>\n",
       "    </tr>\n",
       "    <tr>\n",
       "      <th>degree_centrality_c</th>\n",
       "      <td>0.114404</td>\n",
       "      <td>0.180282</td>\n",
       "      <td>0.681768</td>\n",
       "      <td>0.602621</td>\n",
       "      <td>0.196595</td>\n",
       "      <td>1.000000</td>\n",
       "      <td>0.602621</td>\n",
       "      <td>1.000000</td>\n",
       "      <td>0.618430</td>\n",
       "      <td>0.891674</td>\n",
       "      <td>0.618430</td>\n",
       "      <td>0.891674</td>\n",
       "    </tr>\n",
       "    <tr>\n",
       "      <th>ic_fi</th>\n",
       "      <td>0.077500</td>\n",
       "      <td>0.141628</td>\n",
       "      <td>0.494005</td>\n",
       "      <td>0.697788</td>\n",
       "      <td>0.459425</td>\n",
       "      <td>0.618430</td>\n",
       "      <td>0.697788</td>\n",
       "      <td>0.618430</td>\n",
       "      <td>1.000000</td>\n",
       "      <td>0.720445</td>\n",
       "      <td>1.000000</td>\n",
       "      <td>0.720445</td>\n",
       "    </tr>\n",
       "    <tr>\n",
       "      <th>dc_fi</th>\n",
       "      <td>0.093701</td>\n",
       "      <td>0.181857</td>\n",
       "      <td>0.649221</td>\n",
       "      <td>0.503314</td>\n",
       "      <td>0.328013</td>\n",
       "      <td>0.891674</td>\n",
       "      <td>0.503314</td>\n",
       "      <td>0.891674</td>\n",
       "      <td>0.720445</td>\n",
       "      <td>1.000000</td>\n",
       "      <td>0.720445</td>\n",
       "      <td>1.000000</td>\n",
       "    </tr>\n",
       "    <tr>\n",
       "      <th>ic_fi_c</th>\n",
       "      <td>0.077500</td>\n",
       "      <td>0.141628</td>\n",
       "      <td>0.494005</td>\n",
       "      <td>0.697788</td>\n",
       "      <td>0.459425</td>\n",
       "      <td>0.618430</td>\n",
       "      <td>0.697788</td>\n",
       "      <td>0.618430</td>\n",
       "      <td>1.000000</td>\n",
       "      <td>0.720445</td>\n",
       "      <td>1.000000</td>\n",
       "      <td>0.720445</td>\n",
       "    </tr>\n",
       "    <tr>\n",
       "      <th>dc_fi_c</th>\n",
       "      <td>0.093701</td>\n",
       "      <td>0.181857</td>\n",
       "      <td>0.649221</td>\n",
       "      <td>0.503314</td>\n",
       "      <td>0.328013</td>\n",
       "      <td>0.891674</td>\n",
       "      <td>0.503314</td>\n",
       "      <td>0.891674</td>\n",
       "      <td>0.720445</td>\n",
       "      <td>1.000000</td>\n",
       "      <td>0.720445</td>\n",
       "      <td>1.000000</td>\n",
       "    </tr>\n",
       "  </tbody>\n",
       "</table>\n",
       "</div>"
      ],
      "text/plain": [
       "                          age      size   commits  internal_cohesion  \\\n",
       "age                  1.000000  0.060155  0.141055           0.052815   \n",
       "size                 0.060155  1.000000  0.262700           0.087520   \n",
       "commits              0.141055  0.262700  1.000000           0.434514   \n",
       "internal_cohesion    0.052815  0.087520  0.434514           1.000000   \n",
       "firm_involvement     0.076795  0.122219  0.259657           0.162507   \n",
       "degree_centrality    0.114404  0.180282  0.681768           0.602621   \n",
       "internal_cohesion_c  0.052815  0.087520  0.434514           1.000000   \n",
       "degree_centrality_c  0.114404  0.180282  0.681768           0.602621   \n",
       "ic_fi                0.077500  0.141628  0.494005           0.697788   \n",
       "dc_fi                0.093701  0.181857  0.649221           0.503314   \n",
       "ic_fi_c              0.077500  0.141628  0.494005           0.697788   \n",
       "dc_fi_c              0.093701  0.181857  0.649221           0.503314   \n",
       "\n",
       "                     firm_involvement  degree_centrality  internal_cohesion_c  \\\n",
       "age                          0.076795           0.114404             0.052815   \n",
       "size                         0.122219           0.180282             0.087520   \n",
       "commits                      0.259657           0.681768             0.434514   \n",
       "internal_cohesion            0.162507           0.602621             1.000000   \n",
       "firm_involvement             1.000000           0.196595             0.162507   \n",
       "degree_centrality            0.196595           1.000000             0.602621   \n",
       "internal_cohesion_c          0.162507           0.602621             1.000000   \n",
       "degree_centrality_c          0.196595           1.000000             0.602621   \n",
       "ic_fi                        0.459425           0.618430             0.697788   \n",
       "dc_fi                        0.328013           0.891674             0.503314   \n",
       "ic_fi_c                      0.459425           0.618430             0.697788   \n",
       "dc_fi_c                      0.328013           0.891674             0.503314   \n",
       "\n",
       "                     degree_centrality_c     ic_fi     dc_fi   ic_fi_c  \\\n",
       "age                             0.114404  0.077500  0.093701  0.077500   \n",
       "size                            0.180282  0.141628  0.181857  0.141628   \n",
       "commits                         0.681768  0.494005  0.649221  0.494005   \n",
       "internal_cohesion               0.602621  0.697788  0.503314  0.697788   \n",
       "firm_involvement                0.196595  0.459425  0.328013  0.459425   \n",
       "degree_centrality               1.000000  0.618430  0.891674  0.618430   \n",
       "internal_cohesion_c             0.602621  0.697788  0.503314  0.697788   \n",
       "degree_centrality_c             1.000000  0.618430  0.891674  0.618430   \n",
       "ic_fi                           0.618430  1.000000  0.720445  1.000000   \n",
       "dc_fi                           0.891674  0.720445  1.000000  0.720445   \n",
       "ic_fi_c                         0.618430  1.000000  0.720445  1.000000   \n",
       "dc_fi_c                         0.891674  0.720445  1.000000  0.720445   \n",
       "\n",
       "                      dc_fi_c  \n",
       "age                  0.093701  \n",
       "size                 0.181857  \n",
       "commits              0.649221  \n",
       "internal_cohesion    0.503314  \n",
       "firm_involvement     0.328013  \n",
       "degree_centrality    0.891674  \n",
       "internal_cohesion_c  0.503314  \n",
       "degree_centrality_c  0.891674  \n",
       "ic_fi                0.720445  \n",
       "dc_fi                1.000000  \n",
       "ic_fi_c              0.720445  \n",
       "dc_fi_c              1.000000  "
      ]
     },
     "execution_count": 28,
     "metadata": {},
     "output_type": "execute_result"
    }
   ],
   "source": [
    "sub_data.corr(method='pearson')"
   ]
  },
  {
   "cell_type": "code",
   "execution_count": 25,
   "metadata": {
    "collapsed": false,
    "nbpresent": {
     "id": "4b2b1f5b-21aa-4f4e-8c21-3cd97b54120f"
    }
   },
   "outputs": [],
   "source": [
    "model = sm.formula.ols(formula='commits ~ internal_cohesion_c + degree_centrality_c + ic_fi_c + dc_fi_c + firm_involvement', data=sub_data)\n",
    "\n",
    "result = model.fit()\n",
    "result.summary()"
   ]
  },
  {
   "cell_type": "code",
   "execution_count": 31,
   "metadata": {
    "collapsed": false,
    "nbpresent": {
     "id": "5f6798ea-9049-4f2e-be8a-9243b2243e63"
    }
   },
   "outputs": [
    {
     "data": {
      "text/html": [
       "<table class=\"simpletable\">\n",
       "<caption>OLS Regression Results</caption>\n",
       "<tr>\n",
       "  <th>Dep. Variable:</th>         <td>commits</td>     <th>  R-squared:         </th> <td>   0.265</td> \n",
       "</tr>\n",
       "<tr>\n",
       "  <th>Model:</th>                   <td>OLS</td>       <th>  Adj. R-squared:    </th> <td>   0.262</td> \n",
       "</tr>\n",
       "<tr>\n",
       "  <th>Method:</th>             <td>Least Squares</td>  <th>  F-statistic:       </th> <td>   119.2</td> \n",
       "</tr>\n",
       "<tr>\n",
       "  <th>Date:</th>             <td>Wed, 04 Jan 2017</td> <th>  Prob (F-statistic):</th> <td>5.99e-66</td> \n",
       "</tr>\n",
       "<tr>\n",
       "  <th>Time:</th>                 <td>12:40:46</td>     <th>  Log-Likelihood:    </th> <td> -8477.9</td> \n",
       "</tr>\n",
       "<tr>\n",
       "  <th>No. Observations:</th>      <td>   998</td>      <th>  AIC:               </th> <td>1.696e+04</td>\n",
       "</tr>\n",
       "<tr>\n",
       "  <th>Df Residuals:</th>          <td>   994</td>      <th>  BIC:               </th> <td>1.698e+04</td>\n",
       "</tr>\n",
       "<tr>\n",
       "  <th>Df Model:</th>              <td>     3</td>      <th>                     </th>     <td> </td>    \n",
       "</tr>\n",
       "<tr>\n",
       "  <th>Covariance Type:</th>      <td>nonrobust</td>    <th>                     </th>     <td> </td>    \n",
       "</tr>\n",
       "</table>\n",
       "<table class=\"simpletable\">\n",
       "<tr>\n",
       "              <td></td>                <th>coef</th>     <th>std err</th>      <th>t</th>      <th>P>|t|</th> <th>[95.0% Conf. Int.]</th> \n",
       "</tr>\n",
       "<tr>\n",
       "  <th>Intercept</th>                <td>  543.8050</td> <td>   52.244</td> <td>   10.409</td> <td> 0.000</td> <td>  441.283   646.327</td>\n",
       "</tr>\n",
       "<tr>\n",
       "  <th>firm_involvement[T.True]</th> <td>  226.7570</td> <td>   88.691</td> <td>    2.557</td> <td> 0.011</td> <td>   52.713   400.801</td>\n",
       "</tr>\n",
       "<tr>\n",
       "  <th>internal_cohesion_c</th>      <td>  144.7142</td> <td>   28.376</td> <td>    5.100</td> <td> 0.000</td> <td>   89.031   200.398</td>\n",
       "</tr>\n",
       "<tr>\n",
       "  <th>ic_fi_c</th>                  <td>  290.8443</td> <td>   39.910</td> <td>    7.288</td> <td> 0.000</td> <td>  212.527   369.162</td>\n",
       "</tr>\n",
       "</table>\n",
       "<table class=\"simpletable\">\n",
       "<tr>\n",
       "  <th>Omnibus:</th>       <td>880.250</td> <th>  Durbin-Watson:     </th> <td>   1.944</td> \n",
       "</tr>\n",
       "<tr>\n",
       "  <th>Prob(Omnibus):</th> <td> 0.000</td>  <th>  Jarque-Bera (JB):  </th> <td>39925.835</td>\n",
       "</tr>\n",
       "<tr>\n",
       "  <th>Skew:</th>          <td> 3.829</td>  <th>  Prob(JB):          </th> <td>    0.00</td> \n",
       "</tr>\n",
       "<tr>\n",
       "  <th>Kurtosis:</th>      <td>33.025</td>  <th>  Cond. No.          </th> <td>    5.99</td> \n",
       "</tr>\n",
       "</table>"
      ],
      "text/plain": [
       "<class 'statsmodels.iolib.summary.Summary'>\n",
       "\"\"\"\n",
       "                            OLS Regression Results                            \n",
       "==============================================================================\n",
       "Dep. Variable:                commits   R-squared:                       0.265\n",
       "Model:                            OLS   Adj. R-squared:                  0.262\n",
       "Method:                 Least Squares   F-statistic:                     119.2\n",
       "Date:                Wed, 04 Jan 2017   Prob (F-statistic):           5.99e-66\n",
       "Time:                        12:40:46   Log-Likelihood:                -8477.9\n",
       "No. Observations:                 998   AIC:                         1.696e+04\n",
       "Df Residuals:                     994   BIC:                         1.698e+04\n",
       "Df Model:                           3                                         \n",
       "Covariance Type:            nonrobust                                         \n",
       "============================================================================================\n",
       "                               coef    std err          t      P>|t|      [95.0% Conf. Int.]\n",
       "--------------------------------------------------------------------------------------------\n",
       "Intercept                  543.8050     52.244     10.409      0.000       441.283   646.327\n",
       "firm_involvement[T.True]   226.7570     88.691      2.557      0.011        52.713   400.801\n",
       "internal_cohesion_c        144.7142     28.376      5.100      0.000        89.031   200.398\n",
       "ic_fi_c                    290.8443     39.910      7.288      0.000       212.527   369.162\n",
       "==============================================================================\n",
       "Omnibus:                      880.250   Durbin-Watson:                   1.944\n",
       "Prob(Omnibus):                  0.000   Jarque-Bera (JB):            39925.835\n",
       "Skew:                           3.829   Prob(JB):                         0.00\n",
       "Kurtosis:                      33.025   Cond. No.                         5.99\n",
       "==============================================================================\n",
       "\n",
       "Warnings:\n",
       "[1] Standard Errors assume that the covariance matrix of the errors is correctly specified.\n",
       "\"\"\""
      ]
     },
     "execution_count": 31,
     "metadata": {},
     "output_type": "execute_result"
    }
   ],
   "source": [
    "model2 = sm.formula.ols(formula='commits ~ internal_cohesion_c + ic_fi_c + firm_involvement', data=sub_data)\n",
    "result2 = model2.fit()\n",
    "result2.summary()"
   ]
  },
  {
   "cell_type": "code",
   "execution_count": 33,
   "metadata": {
    "collapsed": false,
    "nbpresent": {
     "id": "61beeb60-7fac-4dc5-a29a-6dd705876a5b"
    }
   },
   "outputs": [
    {
     "data": {
      "text/html": [
       "<table class=\"simpletable\">\n",
       "<caption>OLS Regression Results</caption>\n",
       "<tr>\n",
       "  <th>Dep. Variable:</th>         <td>commits</td>     <th>  R-squared:         </th> <td>   0.484</td> \n",
       "</tr>\n",
       "<tr>\n",
       "  <th>Model:</th>                   <td>OLS</td>       <th>  Adj. R-squared:    </th> <td>   0.482</td> \n",
       "</tr>\n",
       "<tr>\n",
       "  <th>Method:</th>             <td>Least Squares</td>  <th>  F-statistic:       </th> <td>   310.3</td> \n",
       "</tr>\n",
       "<tr>\n",
       "  <th>Date:</th>             <td>Wed, 04 Jan 2017</td> <th>  Prob (F-statistic):</th> <td>3.86e-142</td>\n",
       "</tr>\n",
       "<tr>\n",
       "  <th>Time:</th>                 <td>12:45:49</td>     <th>  Log-Likelihood:    </th> <td> -8301.5</td> \n",
       "</tr>\n",
       "<tr>\n",
       "  <th>No. Observations:</th>      <td>   998</td>      <th>  AIC:               </th> <td>1.661e+04</td>\n",
       "</tr>\n",
       "<tr>\n",
       "  <th>Df Residuals:</th>          <td>   994</td>      <th>  BIC:               </th> <td>1.663e+04</td>\n",
       "</tr>\n",
       "<tr>\n",
       "  <th>Df Model:</th>              <td>     3</td>      <th>                     </th>     <td> </td>    \n",
       "</tr>\n",
       "<tr>\n",
       "  <th>Covariance Type:</th>      <td>nonrobust</td>    <th>                     </th>     <td> </td>    \n",
       "</tr>\n",
       "</table>\n",
       "<table class=\"simpletable\">\n",
       "<tr>\n",
       "              <td></td>                <th>coef</th>     <th>std err</th>      <th>t</th>      <th>P>|t|</th> <th>[95.0% Conf. Int.]</th> \n",
       "</tr>\n",
       "<tr>\n",
       "  <th>Intercept</th>                <td>  508.8041</td> <td>   42.415</td> <td>   11.996</td> <td> 0.000</td> <td>  425.570   592.038</td>\n",
       "</tr>\n",
       "<tr>\n",
       "  <th>firm_involvement[T.True]</th> <td>  312.1625</td> <td>   69.455</td> <td>    4.494</td> <td> 0.000</td> <td>  175.868   448.457</td>\n",
       "</tr>\n",
       "<tr>\n",
       "  <th>degree_centrality_c</th>      <td>   14.5481</td> <td>    1.357</td> <td>   10.725</td> <td> 0.000</td> <td>   11.886    17.210</td>\n",
       "</tr>\n",
       "<tr>\n",
       "  <th>dc_fi_c</th>                  <td>    3.3609</td> <td>    1.519</td> <td>    2.213</td> <td> 0.027</td> <td>    0.380     6.342</td>\n",
       "</tr>\n",
       "</table>\n",
       "<table class=\"simpletable\">\n",
       "<tr>\n",
       "  <th>Omnibus:</th>       <td>933.363</td> <th>  Durbin-Watson:     </th> <td>   2.120</td> \n",
       "</tr>\n",
       "<tr>\n",
       "  <th>Prob(Omnibus):</th> <td> 0.000</td>  <th>  Jarque-Bera (JB):  </th> <td>49734.774</td>\n",
       "</tr>\n",
       "<tr>\n",
       "  <th>Skew:</th>          <td> 4.152</td>  <th>  Prob(JB):          </th> <td>    0.00</td> \n",
       "</tr>\n",
       "<tr>\n",
       "  <th>Kurtosis:</th>      <td>36.572</td>  <th>  Cond. No.          </th> <td>    169.</td> \n",
       "</tr>\n",
       "</table>"
      ],
      "text/plain": [
       "<class 'statsmodels.iolib.summary.Summary'>\n",
       "\"\"\"\n",
       "                            OLS Regression Results                            \n",
       "==============================================================================\n",
       "Dep. Variable:                commits   R-squared:                       0.484\n",
       "Model:                            OLS   Adj. R-squared:                  0.482\n",
       "Method:                 Least Squares   F-statistic:                     310.3\n",
       "Date:                Wed, 04 Jan 2017   Prob (F-statistic):          3.86e-142\n",
       "Time:                        12:45:49   Log-Likelihood:                -8301.5\n",
       "No. Observations:                 998   AIC:                         1.661e+04\n",
       "Df Residuals:                     994   BIC:                         1.663e+04\n",
       "Df Model:                           3                                         \n",
       "Covariance Type:            nonrobust                                         \n",
       "============================================================================================\n",
       "                               coef    std err          t      P>|t|      [95.0% Conf. Int.]\n",
       "--------------------------------------------------------------------------------------------\n",
       "Intercept                  508.8041     42.415     11.996      0.000       425.570   592.038\n",
       "firm_involvement[T.True]   312.1625     69.455      4.494      0.000       175.868   448.457\n",
       "degree_centrality_c         14.5481      1.357     10.725      0.000        11.886    17.210\n",
       "dc_fi_c                      3.3609      1.519      2.213      0.027         0.380     6.342\n",
       "==============================================================================\n",
       "Omnibus:                      933.363   Durbin-Watson:                   2.120\n",
       "Prob(Omnibus):                  0.000   Jarque-Bera (JB):            49734.774\n",
       "Skew:                           4.152   Prob(JB):                         0.00\n",
       "Kurtosis:                      36.572   Cond. No.                         169.\n",
       "==============================================================================\n",
       "\n",
       "Warnings:\n",
       "[1] Standard Errors assume that the covariance matrix of the errors is correctly specified.\n",
       "\"\"\""
      ]
     },
     "execution_count": 33,
     "metadata": {},
     "output_type": "execute_result"
    }
   ],
   "source": [
    "model3 = sm.formula.ols(formula='commits ~ degree_centrality_c + dc_fi_c + firm_involvement', data=sub_data)\n",
    "result3 = model3.fit()\n",
    "result3.summary()"
   ]
  },
  {
   "cell_type": "code",
   "execution_count": null,
   "metadata": {
    "collapsed": true,
    "nbpresent": {
     "id": "ed11b63d-e21b-44d6-bd73-334c0f659791"
    }
   },
   "outputs": [],
   "source": []
  }
 ],
 "metadata": {
  "anaconda-cloud": {},
  "kernelspec": {
   "display_name": "Python [default]",
   "language": "python",
   "name": "python3"
  },
  "language_info": {
   "codemirror_mode": {
    "name": "ipython",
    "version": 3
   },
   "file_extension": ".py",
   "mimetype": "text/x-python",
   "name": "python",
   "nbconvert_exporter": "python",
   "pygments_lexer": "ipython3",
   "version": "3.5.2"
  },
  "nbpresent": {
   "slides": {
    "131b9f6c-979f-4997-8204-70a29648f207": {
     "id": "131b9f6c-979f-4997-8204-70a29648f207",
     "prev": "c8dd2793-193d-4bbf-aac8-aaae15fe1f37",
     "regions": {
      "fbd272da-f2bd-43ce-a05e-5734a105eb4b": {
       "attrs": {
        "height": 0.8,
        "width": 0.8,
        "x": 0.1,
        "y": 0.1
       },
       "content": {
        "cell": "d2c3a18d-4c5f-4fb9-b234-8513e1bdeeb3",
        "part": "whole"
       },
       "id": "fbd272da-f2bd-43ce-a05e-5734a105eb4b"
      }
     }
    },
    "5f9c15e7-7ce5-48ce-9116-9f1ccc0e45bf": {
     "id": "5f9c15e7-7ce5-48ce-9116-9f1ccc0e45bf",
     "prev": "71f76bb9-83fe-4e9f-908e-4a6ba6a06166",
     "regions": {
      "71ba912f-7cb2-4d1f-9df8-9e30abc3cf55": {
       "attrs": {
        "height": 0.8,
        "width": 0.8,
        "x": 0.1,
        "y": 0.1
       },
       "content": {
        "cell": "a13e607b-514d-4586-833f-616476bcf271",
        "part": "whole"
       },
       "id": "71ba912f-7cb2-4d1f-9df8-9e30abc3cf55"
      }
     }
    },
    "71f76bb9-83fe-4e9f-908e-4a6ba6a06166": {
     "id": "71f76bb9-83fe-4e9f-908e-4a6ba6a06166",
     "prev": "b1f21002-5d28-4773-a785-b1cce42e644f",
     "regions": {
      "ab8bdf72-3c05-427e-9806-510cf72f0561": {
       "attrs": {
        "height": 0.8,
        "width": 0.8,
        "x": 0.1,
        "y": 0.1
       },
       "content": {
        "cell": "d14fc6a9-05ca-4df6-9b68-61f0da396c10",
        "part": "whole"
       },
       "id": "ab8bdf72-3c05-427e-9806-510cf72f0561"
      }
     }
    },
    "8fb35f64-dd73-409c-8ffd-4a9597cdfeb6": {
     "id": "8fb35f64-dd73-409c-8ffd-4a9597cdfeb6",
     "prev": "f7d5eb6b-0b54-47ee-b8d4-de9d6139e4c4",
     "regions": {
      "e162675f-c762-45c1-a6c5-c29d985c218c": {
       "attrs": {
        "height": 0.8,
        "width": 0.8,
        "x": 0.1,
        "y": 0.1
       },
       "content": {
        "cell": "ed11b63d-e21b-44d6-bd73-334c0f659791",
        "part": "whole"
       },
       "id": "e162675f-c762-45c1-a6c5-c29d985c218c"
      }
     }
    },
    "a170ffa3-c18d-4fe0-812a-d1e213fe0475": {
     "id": "a170ffa3-c18d-4fe0-812a-d1e213fe0475",
     "prev": "131b9f6c-979f-4997-8204-70a29648f207",
     "regions": {
      "5c666624-cd9c-40e5-abbd-f35274118274": {
       "attrs": {
        "height": 0.8,
        "width": 0.8,
        "x": 0.1,
        "y": 0.1
       },
       "content": {
        "cell": "5f6798ea-9049-4f2e-be8a-9243b2243e63",
        "part": "whole"
       },
       "id": "5c666624-cd9c-40e5-abbd-f35274118274"
      }
     }
    },
    "b1f21002-5d28-4773-a785-b1cce42e644f": {
     "id": "b1f21002-5d28-4773-a785-b1cce42e644f",
     "prev": null,
     "regions": {
      "c6b656d0-772f-4afb-85b5-b501ce1eae4f": {
       "attrs": {
        "height": 0.8,
        "width": 0.8,
        "x": 0.1,
        "y": 0.1
       },
       "content": {
        "cell": "11ac7301-47dc-46d0-b5d5-11481baf1bae",
        "part": "whole"
       },
       "id": "c6b656d0-772f-4afb-85b5-b501ce1eae4f"
      }
     }
    },
    "c8dd2793-193d-4bbf-aac8-aaae15fe1f37": {
     "id": "c8dd2793-193d-4bbf-aac8-aaae15fe1f37",
     "prev": "d0d186a0-7cdb-4ca1-b5bc-916ae2a3a927",
     "regions": {
      "6964a5e7-5219-42ec-82cd-7106cbb00438": {
       "attrs": {
        "height": 0.8,
        "width": 0.8,
        "x": 0.1,
        "y": 0.1
       },
       "content": {
        "cell": "4b2b1f5b-21aa-4f4e-8c21-3cd97b54120f",
        "part": "whole"
       },
       "id": "6964a5e7-5219-42ec-82cd-7106cbb00438"
      }
     }
    },
    "d0d186a0-7cdb-4ca1-b5bc-916ae2a3a927": {
     "id": "d0d186a0-7cdb-4ca1-b5bc-916ae2a3a927",
     "prev": "5f9c15e7-7ce5-48ce-9116-9f1ccc0e45bf",
     "regions": {
      "dafa5aac-761c-45e9-a9e3-45e0965e7d49": {
       "attrs": {
        "height": 0.8,
        "width": 0.8,
        "x": 0.1,
        "y": 0.1
       },
       "content": {
        "cell": "173cc8bc-4162-4065-9161-923c480f2ae2",
        "part": "whole"
       },
       "id": "dafa5aac-761c-45e9-a9e3-45e0965e7d49"
      }
     }
    },
    "f7d5eb6b-0b54-47ee-b8d4-de9d6139e4c4": {
     "id": "f7d5eb6b-0b54-47ee-b8d4-de9d6139e4c4",
     "prev": "a170ffa3-c18d-4fe0-812a-d1e213fe0475",
     "regions": {
      "3c0fca8c-d186-4330-8e94-19745a97ad1a": {
       "attrs": {
        "height": 0.8,
        "width": 0.8,
        "x": 0.1,
        "y": 0.1
       },
       "content": {
        "cell": "61beeb60-7fac-4dc5-a29a-6dd705876a5b",
        "part": "whole"
       },
       "id": "3c0fca8c-d186-4330-8e94-19745a97ad1a"
      }
     }
    }
   },
   "themes": {}
  }
 },
 "nbformat": 4,
 "nbformat_minor": 0
}
