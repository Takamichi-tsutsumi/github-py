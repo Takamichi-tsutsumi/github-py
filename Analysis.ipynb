{
 "cells": [
  {
   "cell_type": "code",
   "execution_count": 1,
   "metadata": {
    "collapsed": false,
    "nbpresent": {
     "id": "11ac7301-47dc-46d0-b5d5-11481baf1bae"
    }
   },
   "outputs": [],
   "source": [
    "%matplotlib inline\n",
    "import pandas as pd\n",
    "import numpy\n",
    "import matplotlib.pyplot as plt\n",
    "import scipy.stats\n",
    "import pandas.io.sql as psql\n",
    "import psycopg2 as pg\n",
    "from statsmodels import api as sm\n",
    "import itertools\n",
    "plt.style.use('ggplot')\n",
    "\n",
    "# Database connection\n",
    "with pg.connect(database='research') as conn:\n",
    "    sql = 'SELECT full_name, age, size, commits, internal_cohesion, degree_centrality, firm_involvement \\\n",
    "        FROM repositories where id < 1000;'\n",
    "    data = psql.read_sql(sql, conn)\n",
    "\n",
    "sub = data[[\"age\", \"size\", \"commits\", \"internal_cohesion\", \"firm_involvement\", \"degree_centrality\"]]\n",
    "sub_data = sub.copy()\n",
    "\n",
    "sub_data[\"age\"] = pd.to_numeric(sub_data[\"age\"], errors=\"coerce\")\n",
    "sub_data[\"size\"] = pd.to_numeric(sub_data[\"size\"], errors=\"coerce\")\n",
    "sub_data[\"commits\"] = pd.to_numeric(sub_data[\"commits\"], errors=\"coerce\")\n",
    "sub_data[\"internal_cohesion\"] = pd.to_numeric(sub_data[\"internal_cohesion\"], errors=\"coerce\")\n",
    "sub_data[\"firm_involvement\"] = pd.to_numeric(sub_data[\"firm_involvement\"], errors=\"coerce\")\n",
    "sub_data[\"degree_centrality\"] = pd.to_numeric(sub_data[\"degree_centrality\"], errors=\"coerce\")"
   ]
  },
  {
   "cell_type": "markdown",
   "metadata": {},
   "source": [
    "## descriptive statistic"
   ]
  },
  {
   "cell_type": "code",
   "execution_count": 2,
   "metadata": {
    "collapsed": false,
    "scrolled": true
   },
   "outputs": [
    {
     "data": {
      "text/html": [
       "<div>\n",
       "<table border=\"1\" class=\"dataframe\">\n",
       "  <thead>\n",
       "    <tr style=\"text-align: right;\">\n",
       "      <th></th>\n",
       "      <th>mean</th>\n",
       "      <th>std</th>\n",
       "      <th>max</th>\n",
       "      <th>min</th>\n",
       "    </tr>\n",
       "  </thead>\n",
       "  <tbody>\n",
       "    <tr>\n",
       "      <th>age</th>\n",
       "      <td>569.935872</td>\n",
       "      <td>286.939028</td>\n",
       "      <td>1310.0</td>\n",
       "      <td>2</td>\n",
       "    </tr>\n",
       "    <tr>\n",
       "      <th>size</th>\n",
       "      <td>16244.716433</td>\n",
       "      <td>51610.624737</td>\n",
       "      <td>823734.0</td>\n",
       "      <td>15</td>\n",
       "    </tr>\n",
       "    <tr>\n",
       "      <th>commits</th>\n",
       "      <td>634.119238</td>\n",
       "      <td>1380.129031</td>\n",
       "      <td>14504.0</td>\n",
       "      <td>0</td>\n",
       "    </tr>\n",
       "    <tr>\n",
       "      <th>internal_cohesion</th>\n",
       "      <td>1.034713</td>\n",
       "      <td>1.908950</td>\n",
       "      <td>22.5</td>\n",
       "      <td>0</td>\n",
       "    </tr>\n",
       "    <tr>\n",
       "      <th>firm_involvement</th>\n",
       "      <td>0.407816</td>\n",
       "      <td>0.491675</td>\n",
       "      <td>1.0</td>\n",
       "      <td>0</td>\n",
       "    </tr>\n",
       "    <tr>\n",
       "      <th>degree_centrality</th>\n",
       "      <td>20.064257</td>\n",
       "      <td>52.604582</td>\n",
       "      <td>464.0</td>\n",
       "      <td>0</td>\n",
       "    </tr>\n",
       "  </tbody>\n",
       "</table>\n",
       "</div>"
      ],
      "text/plain": [
       "                           mean           std       max  min\n",
       "age                  569.935872    286.939028    1310.0    2\n",
       "size               16244.716433  51610.624737  823734.0   15\n",
       "commits              634.119238   1380.129031   14504.0    0\n",
       "internal_cohesion      1.034713      1.908950      22.5    0\n",
       "firm_involvement       0.407816      0.491675       1.0    0\n",
       "degree_centrality     20.064257     52.604582     464.0    0"
      ]
     },
     "execution_count": 2,
     "metadata": {},
     "output_type": "execute_result"
    }
   ],
   "source": [
    "labels = [\"age\", \"size\", \"commits\", \"internal_cohesion\", \"firm_involvement\", \"degree_centrality\"]\n",
    "ds = pd.DataFrame(index=labels)\n",
    "# for l in labels:\n",
    "#     ds[]\n",
    "ds['mean'] = sub_data.mean()\n",
    "ds['std'] = sub_data.std()\n",
    "ds['max'] = sub_data.max()\n",
    "ds['min'] = sub_data.min()\n",
    "ds"
   ]
  },
  {
   "cell_type": "code",
   "execution_count": 3,
   "metadata": {
    "collapsed": true
   },
   "outputs": [],
   "source": [
    "sub_data[\"ic_fi\"] = sub_data[\"internal_cohesion\"] * sub_data[\"firm_involvement\"]\n",
    "sub_data[\"dc_fi\"] = sub_data[\"degree_centrality\"] * sub_data[\"firm_involvement\"]\n",
    "\n",
    "ic = sub_data[\"internal_cohesion\"]\n",
    "dc = sub_data[\"degree_centrality\"]\n",
    "sub_data[\"ic_n\"] = (ic - ic.mean()) / (ic.max() - ic.min())\n",
    "sub_data[\"dc_n\"] = (dc - dc.mean()) / (dc.max() - dc.min())\n",
    "\n",
    "ic_fi = sub_data['ic_fi']\n",
    "dc_fi = sub_data['dc_fi']\n",
    "\n",
    "sub_data['ic_fi_n'] = (ic_fi - ic_fi.mean()) / (ic_fi.max() - ic_fi.min())\n",
    "sub_data['dc_fi_n'] = (dc_fi - dc_fi.mean()) / (dc_fi.max() - dc_fi.min())"
   ]
  },
  {
   "cell_type": "code",
   "execution_count": 15,
   "metadata": {
    "collapsed": false,
    "scrolled": true
   },
   "outputs": [
    {
     "data": {
      "text/plain": [
       "<matplotlib.axes._subplots.AxesSubplot at 0x11b4579e8>"
      ]
     },
     "execution_count": 15,
     "metadata": {},
     "output_type": "execute_result"
    },
    {
     "data": {
      "image/png": "[encoded data removed]",
      "text/plain": [
       "<matplotlib.figure.Figure at 0x11b4578d0>"
      ]
     },
     "metadata": {},
     "output_type": "display_data"
    }
   ],
   "source": [
    "# commits数のヒストグラム\n",
    "commits_hist = plt.figure()\n",
    "sub_data['commits'].plot.hist(bins=60)"
   ]
  },
  {
   "cell_type": "code",
   "execution_count": 5,
   "metadata": {
    "collapsed": false,
    "scrolled": true
   },
   "outputs": [
    {
     "data": {
      "text/plain": [
       "<matplotlib.axes._subplots.AxesSubplot at 0x1195e5cc0>"
      ]
     },
     "execution_count": 5,
     "metadata": {},
     "output_type": "execute_result"
    },
    {
     "data": {
      "image/png": "[encoded data removed]",
      "text/plain": [
       "<matplotlib.figure.Figure at 0x1195a9cc0>"
      ]
     },
     "metadata": {},
     "output_type": "display_data"
    }
   ],
   "source": [
    "sub_data['ln_commits'] = numpy.log(sub_data['commits'] + 1)\n",
    "sub_data['ln_commits'].plot.hist(bins=50)"
   ]
  },
  {
   "cell_type": "code",
   "execution_count": 6,
   "metadata": {
    "collapsed": false
   },
   "outputs": [
    {
     "data": {
      "text/plain": [
       "<matplotlib.axes._subplots.AxesSubplot at 0x11a01f978>"
      ]
     },
     "execution_count": 6,
     "metadata": {},
     "output_type": "execute_result"
    },
    {
     "data": {
      "image/png": "[encoded data removed]",
      "text/plain": [
       "<matplotlib.figure.Figure at 0x119592f60>"
      ]
     },
     "metadata": {},
     "output_type": "display_data"
    }
   ],
   "source": [
    "sub_data['ln_dc'] = numpy.log(sub_data['degree_centrality'] + 1)\n",
    "sub_data['ln_dc'].plot.hist(bins=50)"
   ]
  },
  {
   "cell_type": "code",
   "execution_count": 7,
   "metadata": {
    "collapsed": false
   },
   "outputs": [
    {
     "data": {
      "text/plain": [
       "<matplotlib.axes._subplots.AxesSubplot at 0x11a254be0>"
      ]
     },
     "execution_count": 7,
     "metadata": {},
     "output_type": "execute_result"
    },
    {
     "data": {
      "image/png": "[encoded data removed]",
      "text/plain": [
       "<matplotlib.figure.Figure at 0x11a0992b0>"
      ]
     },
     "metadata": {},
     "output_type": "display_data"
    }
   ],
   "source": [
    "sub_data['internal_cohesion'].plot.hist(bins=50)"
   ]
  },
  {
   "cell_type": "code",
   "execution_count": 8,
   "metadata": {
    "collapsed": false,
    "scrolled": true
   },
   "outputs": [
    {
     "data": {
      "text/plain": [
       "<matplotlib.axes._subplots.AxesSubplot at 0x119b68630>"
      ]
     },
     "execution_count": 8,
     "metadata": {},
     "output_type": "execute_result"
    },
    {
     "data": {
      "image/png": "[encoded data removed]",
      "text/plain": [
       "<matplotlib.figure.Figure at 0x119b1dcf8>"
      ]
     },
     "metadata": {},
     "output_type": "display_data"
    }
   ],
   "source": [
    "sub_data['ln_ic'] = numpy.log(sub_data['internal_cohesion'] + 1)\n",
    "sub_data['ln_ic'].plot.hist(bins=50)"
   ]
  },
  {
   "cell_type": "code",
   "execution_count": 13,
   "metadata": {
    "collapsed": false,
    "scrolled": true
   },
   "outputs": [
    {
     "data": {
      "text/plain": [
       "<matplotlib.axes._subplots.AxesSubplot at 0x11ae27400>"
      ]
     },
     "execution_count": 13,
     "metadata": {},
     "output_type": "execute_result"
    },
    {
     "data": {
      "image/png": "[encoded data removed]",
      "text/plain": [
       "<matplotlib.figure.Figure at 0x11a095ef0>"
      ]
     },
     "metadata": {},
     "output_type": "display_data"
    }
   ],
   "source": [
    "sub_data['ic_n'].plot.hist(bins=50)"
   ]
  },
  {
   "cell_type": "code",
   "execution_count": 21,
   "metadata": {
    "collapsed": false,
    "scrolled": true
   },
   "outputs": [
    {
     "data": {
      "text/plain": [
       "<matplotlib.axes._subplots.AxesSubplot at 0x11becc278>"
      ]
     },
     "execution_count": 21,
     "metadata": {},
     "output_type": "execute_result"
    },
    {
     "data": {
      "image/png": "[encoded data removed]",
      "text/plain": [
       "<matplotlib.figure.Figure at 0x11c5a4400>"
      ]
     },
     "metadata": {},
     "output_type": "display_data"
    }
   ],
   "source": [
    "# sub_data['size'].plot.hist(bins=50)\n",
    "sub_data['ln_size'] = numpy.log(sub_data['size'] + 1)\n",
    "sub_data['ln_size'].plot.hist(bins=50)"
   ]
  },
  {
   "cell_type": "code",
   "execution_count": 22,
   "metadata": {
    "collapsed": false
   },
   "outputs": [
    {
     "data": {
      "text/plain": [
       "<matplotlib.axes._subplots.AxesSubplot at 0x11c6cfcf8>"
      ]
     },
     "execution_count": 22,
     "metadata": {},
     "output_type": "execute_result"
    },
    {
     "data": {
      "image/png": "[encoded data removed]",
      "text/plain": [
       "<matplotlib.figure.Figure at 0x11c776630>"
      ]
     },
     "metadata": {},
     "output_type": "display_data"
    }
   ],
   "source": [
    "sub_data['age_mc'] = sub_data['age'] / sub_data['age'].max()\n",
    "sub_data['age'].plot.hist(bins=50)"
   ]
  },
  {
   "cell_type": "code",
   "execution_count": 25,
   "metadata": {
    "collapsed": false
   },
   "outputs": [
    {
     "data": {
      "text/plain": [
       "<matplotlib.axes._subplots.AxesSubplot at 0x11d0fc9b0>"
      ]
     },
     "execution_count": 25,
     "metadata": {},
     "output_type": "execute_result"
    },
    {
     "data": {
      "image/png": "[encoded data removed]",
      "text/plain": [
       "<matplotlib.figure.Figure at 0x11d10ff98>"
      ]
     },
     "metadata": {},
     "output_type": "display_data"
    }
   ],
   "source": [
    "sub_data['age_mc'].plot.hist(bins=50)"
   ]
  },
  {
   "cell_type": "code",
   "execution_count": 67,
   "metadata": {
    "collapsed": false,
    "scrolled": false
   },
   "outputs": [
    {
     "data": {
      "text/plain": [
       "<matplotlib.figure.Figure at 0x11efe7940>"
      ]
     },
     "metadata": {},
     "output_type": "display_data"
    },
    {
     "data": {
      "image/png": "[encoded data removed]",
      "text/plain": [
       "<matplotlib.figure.Figure at 0x11f4c1978>"
      ]
     },
     "metadata": {},
     "output_type": "display_data"
    },
    {
     "data": {
      "image/png": "[encoded data removed]",
      "text/plain": [
       "<matplotlib.figure.Figure at 0x11f6f9860>"
      ]
     },
     "metadata": {},
     "output_type": "display_data"
    },
    {
     "data": {
      "image/png": "[encoded data removed]",
      "text/plain": [
       "<matplotlib.figure.Figure at 0x11fcceef0>"
      ]
     },
     "metadata": {},
     "output_type": "display_data"
    },
    {
     "data": {
      "image/png": "[encoded data removed]",
      "text/plain": [
       "<matplotlib.figure.Figure at 0x11fd64a90>"
      ]
     },
     "metadata": {},
     "output_type": "display_data"
    },
    {
     "data": {
      "image/png": "[encoded data removed]",
      "text/plain": [
       "<matplotlib.figure.Figure at 0x11fdb2fd0>"
      ]
     },
     "metadata": {},
     "output_type": "display_data"
    },
    {
     "data": {
      "image/png": "[encoded data removed]",
      "text/plain": [
       "<matplotlib.figure.Figure at 0x11fcbbdd8>"
      ]
     },
     "metadata": {},
     "output_type": "display_data"
    }
   ],
   "source": [
    "# 散布図\n",
    "fig = plt.figure()\n",
    "labels = ['commits', 'firm_involvement', 'degree_centrality', 'internal_cohesion']\n",
    "for l1, l2 in itertools.combinations(labels, 2):\n",
    "    sub_data.plot(kind='scatter', x=l2, y=l1)"
   ]
  },
  {
   "cell_type": "code",
   "execution_count": 29,
   "metadata": {
    "collapsed": false,
    "nbpresent": {
     "id": "173cc8bc-4162-4065-9161-923c480f2ae2"
    }
   },
   "outputs": [
    {
     "data": {
      "text/html": [
       "<div>\n",
       "<table border=\"1\" class=\"dataframe\">\n",
       "  <thead>\n",
       "    <tr style=\"text-align: right;\">\n",
       "      <th></th>\n",
       "      <th>age</th>\n",
       "      <th>size</th>\n",
       "      <th>commits</th>\n",
       "      <th>internal_cohesion</th>\n",
       "      <th>firm_involvement</th>\n",
       "      <th>degree_centrality</th>\n",
       "      <th>ic_fi</th>\n",
       "      <th>dc_fi</th>\n",
       "      <th>ic_n</th>\n",
       "      <th>dc_n</th>\n",
       "      <th>ic_fi_n</th>\n",
       "      <th>dc_fi_n</th>\n",
       "      <th>ln_commits</th>\n",
       "      <th>ln_dc</th>\n",
       "      <th>ln_ic</th>\n",
       "      <th>ln_size</th>\n",
       "      <th>age_mc</th>\n",
       "    </tr>\n",
       "  </thead>\n",
       "  <tbody>\n",
       "    <tr>\n",
       "      <th>age</th>\n",
       "      <td>1.000000</td>\n",
       "      <td>0.060145</td>\n",
       "      <td>0.140737</td>\n",
       "      <td>0.052808</td>\n",
       "      <td>0.076691</td>\n",
       "      <td>0.113960</td>\n",
       "      <td>0.077442</td>\n",
       "      <td>0.093194</td>\n",
       "      <td>0.052808</td>\n",
       "      <td>0.113960</td>\n",
       "      <td>0.077442</td>\n",
       "      <td>0.093194</td>\n",
       "      <td>0.344446</td>\n",
       "      <td>0.190153</td>\n",
       "      <td>0.130325</td>\n",
       "      <td>0.154667</td>\n",
       "      <td>1.000000</td>\n",
       "    </tr>\n",
       "    <tr>\n",
       "      <th>size</th>\n",
       "      <td>0.060145</td>\n",
       "      <td>1.000000</td>\n",
       "      <td>0.262840</td>\n",
       "      <td>0.087518</td>\n",
       "      <td>0.122566</td>\n",
       "      <td>0.180342</td>\n",
       "      <td>0.141680</td>\n",
       "      <td>0.181965</td>\n",
       "      <td>0.087518</td>\n",
       "      <td>0.180342</td>\n",
       "      <td>0.141680</td>\n",
       "      <td>0.181965</td>\n",
       "      <td>0.205850</td>\n",
       "      <td>0.093958</td>\n",
       "      <td>0.044749</td>\n",
       "      <td>0.556169</td>\n",
       "      <td>0.060145</td>\n",
       "    </tr>\n",
       "    <tr>\n",
       "      <th>commits</th>\n",
       "      <td>0.140737</td>\n",
       "      <td>0.262840</td>\n",
       "      <td>1.000000</td>\n",
       "      <td>0.434678</td>\n",
       "      <td>0.258966</td>\n",
       "      <td>0.681609</td>\n",
       "      <td>0.493937</td>\n",
       "      <td>0.648948</td>\n",
       "      <td>0.434678</td>\n",
       "      <td>0.681609</td>\n",
       "      <td>0.493937</td>\n",
       "      <td>0.648948</td>\n",
       "      <td>0.657448</td>\n",
       "      <td>0.435823</td>\n",
       "      <td>0.399870</td>\n",
       "      <td>0.410625</td>\n",
       "      <td>0.140737</td>\n",
       "    </tr>\n",
       "    <tr>\n",
       "      <th>internal_cohesion</th>\n",
       "      <td>0.052808</td>\n",
       "      <td>0.087518</td>\n",
       "      <td>0.434678</td>\n",
       "      <td>1.000000</td>\n",
       "      <td>0.162765</td>\n",
       "      <td>0.602862</td>\n",
       "      <td>0.697853</td>\n",
       "      <td>0.503594</td>\n",
       "      <td>1.000000</td>\n",
       "      <td>0.602862</td>\n",
       "      <td>0.697853</td>\n",
       "      <td>0.503594</td>\n",
       "      <td>0.250111</td>\n",
       "      <td>0.409955</td>\n",
       "      <td>0.872132</td>\n",
       "      <td>0.056951</td>\n",
       "      <td>0.052808</td>\n",
       "    </tr>\n",
       "    <tr>\n",
       "      <th>firm_involvement</th>\n",
       "      <td>0.076691</td>\n",
       "      <td>0.122566</td>\n",
       "      <td>0.258966</td>\n",
       "      <td>0.162765</td>\n",
       "      <td>1.000000</td>\n",
       "      <td>0.196396</td>\n",
       "      <td>0.459424</td>\n",
       "      <td>0.327735</td>\n",
       "      <td>0.162765</td>\n",
       "      <td>0.196396</td>\n",
       "      <td>0.459424</td>\n",
       "      <td>0.327735</td>\n",
       "      <td>0.341847</td>\n",
       "      <td>0.232124</td>\n",
       "      <td>0.259250</td>\n",
       "      <td>0.215110</td>\n",
       "      <td>0.076691</td>\n",
       "    </tr>\n",
       "    <tr>\n",
       "      <th>degree_centrality</th>\n",
       "      <td>0.113960</td>\n",
       "      <td>0.180342</td>\n",
       "      <td>0.681609</td>\n",
       "      <td>0.602862</td>\n",
       "      <td>0.196396</td>\n",
       "      <td>1.000000</td>\n",
       "      <td>0.618581</td>\n",
       "      <td>0.891589</td>\n",
       "      <td>0.602862</td>\n",
       "      <td>1.000000</td>\n",
       "      <td>0.618581</td>\n",
       "      <td>0.891589</td>\n",
       "      <td>0.494856</td>\n",
       "      <td>0.681609</td>\n",
       "      <td>0.573858</td>\n",
       "      <td>0.272165</td>\n",
       "      <td>0.113960</td>\n",
       "    </tr>\n",
       "    <tr>\n",
       "      <th>ic_fi</th>\n",
       "      <td>0.077442</td>\n",
       "      <td>0.141680</td>\n",
       "      <td>0.493937</td>\n",
       "      <td>0.697853</td>\n",
       "      <td>0.459424</td>\n",
       "      <td>0.618581</td>\n",
       "      <td>1.000000</td>\n",
       "      <td>0.720671</td>\n",
       "      <td>0.697853</td>\n",
       "      <td>0.618581</td>\n",
       "      <td>1.000000</td>\n",
       "      <td>0.720671</td>\n",
       "      <td>0.309798</td>\n",
       "      <td>0.390578</td>\n",
       "      <td>0.654240</td>\n",
       "      <td>0.150249</td>\n",
       "      <td>0.077442</td>\n",
       "    </tr>\n",
       "    <tr>\n",
       "      <th>dc_fi</th>\n",
       "      <td>0.093194</td>\n",
       "      <td>0.181965</td>\n",
       "      <td>0.648948</td>\n",
       "      <td>0.503594</td>\n",
       "      <td>0.327735</td>\n",
       "      <td>0.891589</td>\n",
       "      <td>0.720671</td>\n",
       "      <td>1.000000</td>\n",
       "      <td>0.503594</td>\n",
       "      <td>0.891589</td>\n",
       "      <td>0.720671</td>\n",
       "      <td>1.000000</td>\n",
       "      <td>0.425437</td>\n",
       "      <td>0.531187</td>\n",
       "      <td>0.481099</td>\n",
       "      <td>0.247844</td>\n",
       "      <td>0.093194</td>\n",
       "    </tr>\n",
       "    <tr>\n",
       "      <th>ic_n</th>\n",
       "      <td>0.052808</td>\n",
       "      <td>0.087518</td>\n",
       "      <td>0.434678</td>\n",
       "      <td>1.000000</td>\n",
       "      <td>0.162765</td>\n",
       "      <td>0.602862</td>\n",
       "      <td>0.697853</td>\n",
       "      <td>0.503594</td>\n",
       "      <td>1.000000</td>\n",
       "      <td>0.602862</td>\n",
       "      <td>0.697853</td>\n",
       "      <td>0.503594</td>\n",
       "      <td>0.250111</td>\n",
       "      <td>0.409955</td>\n",
       "      <td>0.872132</td>\n",
       "      <td>0.056951</td>\n",
       "      <td>0.052808</td>\n",
       "    </tr>\n",
       "    <tr>\n",
       "      <th>dc_n</th>\n",
       "      <td>0.113960</td>\n",
       "      <td>0.180342</td>\n",
       "      <td>0.681609</td>\n",
       "      <td>0.602862</td>\n",
       "      <td>0.196396</td>\n",
       "      <td>1.000000</td>\n",
       "      <td>0.618581</td>\n",
       "      <td>0.891589</td>\n",
       "      <td>0.602862</td>\n",
       "      <td>1.000000</td>\n",
       "      <td>0.618581</td>\n",
       "      <td>0.891589</td>\n",
       "      <td>0.494856</td>\n",
       "      <td>0.681609</td>\n",
       "      <td>0.573858</td>\n",
       "      <td>0.272165</td>\n",
       "      <td>0.113960</td>\n",
       "    </tr>\n",
       "    <tr>\n",
       "      <th>ic_fi_n</th>\n",
       "      <td>0.077442</td>\n",
       "      <td>0.141680</td>\n",
       "      <td>0.493937</td>\n",
       "      <td>0.697853</td>\n",
       "      <td>0.459424</td>\n",
       "      <td>0.618581</td>\n",
       "      <td>1.000000</td>\n",
       "      <td>0.720671</td>\n",
       "      <td>0.697853</td>\n",
       "      <td>0.618581</td>\n",
       "      <td>1.000000</td>\n",
       "      <td>0.720671</td>\n",
       "      <td>0.309798</td>\n",
       "      <td>0.390578</td>\n",
       "      <td>0.654240</td>\n",
       "      <td>0.150249</td>\n",
       "      <td>0.077442</td>\n",
       "    </tr>\n",
       "    <tr>\n",
       "      <th>dc_fi_n</th>\n",
       "      <td>0.093194</td>\n",
       "      <td>0.181965</td>\n",
       "      <td>0.648948</td>\n",
       "      <td>0.503594</td>\n",
       "      <td>0.327735</td>\n",
       "      <td>0.891589</td>\n",
       "      <td>0.720671</td>\n",
       "      <td>1.000000</td>\n",
       "      <td>0.503594</td>\n",
       "      <td>0.891589</td>\n",
       "      <td>0.720671</td>\n",
       "      <td>1.000000</td>\n",
       "      <td>0.425437</td>\n",
       "      <td>0.531187</td>\n",
       "      <td>0.481099</td>\n",
       "      <td>0.247844</td>\n",
       "      <td>0.093194</td>\n",
       "    </tr>\n",
       "    <tr>\n",
       "      <th>ln_commits</th>\n",
       "      <td>0.344446</td>\n",
       "      <td>0.205850</td>\n",
       "      <td>0.657448</td>\n",
       "      <td>0.250111</td>\n",
       "      <td>0.341847</td>\n",
       "      <td>0.494856</td>\n",
       "      <td>0.309798</td>\n",
       "      <td>0.425437</td>\n",
       "      <td>0.250111</td>\n",
       "      <td>0.494856</td>\n",
       "      <td>0.309798</td>\n",
       "      <td>0.425437</td>\n",
       "      <td>1.000000</td>\n",
       "      <td>0.535605</td>\n",
       "      <td>0.364252</td>\n",
       "      <td>0.500501</td>\n",
       "      <td>0.344446</td>\n",
       "    </tr>\n",
       "    <tr>\n",
       "      <th>ln_dc</th>\n",
       "      <td>0.190153</td>\n",
       "      <td>0.093958</td>\n",
       "      <td>0.435823</td>\n",
       "      <td>0.409955</td>\n",
       "      <td>0.232124</td>\n",
       "      <td>0.681609</td>\n",
       "      <td>0.390578</td>\n",
       "      <td>0.531187</td>\n",
       "      <td>0.409955</td>\n",
       "      <td>0.681609</td>\n",
       "      <td>0.390578</td>\n",
       "      <td>0.531187</td>\n",
       "      <td>0.535605</td>\n",
       "      <td>1.000000</td>\n",
       "      <td>0.584792</td>\n",
       "      <td>0.226493</td>\n",
       "      <td>0.190153</td>\n",
       "    </tr>\n",
       "    <tr>\n",
       "      <th>ln_ic</th>\n",
       "      <td>0.130325</td>\n",
       "      <td>0.044749</td>\n",
       "      <td>0.399870</td>\n",
       "      <td>0.872132</td>\n",
       "      <td>0.259250</td>\n",
       "      <td>0.573858</td>\n",
       "      <td>0.654240</td>\n",
       "      <td>0.481099</td>\n",
       "      <td>0.872132</td>\n",
       "      <td>0.573858</td>\n",
       "      <td>0.654240</td>\n",
       "      <td>0.481099</td>\n",
       "      <td>0.364252</td>\n",
       "      <td>0.584792</td>\n",
       "      <td>1.000000</td>\n",
       "      <td>0.071043</td>\n",
       "      <td>0.130325</td>\n",
       "    </tr>\n",
       "    <tr>\n",
       "      <th>ln_size</th>\n",
       "      <td>0.154667</td>\n",
       "      <td>0.556169</td>\n",
       "      <td>0.410625</td>\n",
       "      <td>0.056951</td>\n",
       "      <td>0.215110</td>\n",
       "      <td>0.272165</td>\n",
       "      <td>0.150249</td>\n",
       "      <td>0.247844</td>\n",
       "      <td>0.056951</td>\n",
       "      <td>0.272165</td>\n",
       "      <td>0.150249</td>\n",
       "      <td>0.247844</td>\n",
       "      <td>0.500501</td>\n",
       "      <td>0.226493</td>\n",
       "      <td>0.071043</td>\n",
       "      <td>1.000000</td>\n",
       "      <td>0.154667</td>\n",
       "    </tr>\n",
       "    <tr>\n",
       "      <th>age_mc</th>\n",
       "      <td>1.000000</td>\n",
       "      <td>0.060145</td>\n",
       "      <td>0.140737</td>\n",
       "      <td>0.052808</td>\n",
       "      <td>0.076691</td>\n",
       "      <td>0.113960</td>\n",
       "      <td>0.077442</td>\n",
       "      <td>0.093194</td>\n",
       "      <td>0.052808</td>\n",
       "      <td>0.113960</td>\n",
       "      <td>0.077442</td>\n",
       "      <td>0.093194</td>\n",
       "      <td>0.344446</td>\n",
       "      <td>0.190153</td>\n",
       "      <td>0.130325</td>\n",
       "      <td>0.154667</td>\n",
       "      <td>1.000000</td>\n",
       "    </tr>\n",
       "  </tbody>\n",
       "</table>\n",
       "</div>"
      ],
      "text/plain": [
       "                        age      size   commits  internal_cohesion  \\\n",
       "age                1.000000  0.060145  0.140737           0.052808   \n",
       "size               0.060145  1.000000  0.262840           0.087518   \n",
       "commits            0.140737  0.262840  1.000000           0.434678   \n",
       "internal_cohesion  0.052808  0.087518  0.434678           1.000000   \n",
       "firm_involvement   0.076691  0.122566  0.258966           0.162765   \n",
       "degree_centrality  0.113960  0.180342  0.681609           0.602862   \n",
       "ic_fi              0.077442  0.141680  0.493937           0.697853   \n",
       "dc_fi              0.093194  0.181965  0.648948           0.503594   \n",
       "ic_n               0.052808  0.087518  0.434678           1.000000   \n",
       "dc_n               0.113960  0.180342  0.681609           0.602862   \n",
       "ic_fi_n            0.077442  0.141680  0.493937           0.697853   \n",
       "dc_fi_n            0.093194  0.181965  0.648948           0.503594   \n",
       "ln_commits         0.344446  0.205850  0.657448           0.250111   \n",
       "ln_dc              0.190153  0.093958  0.435823           0.409955   \n",
       "ln_ic              0.130325  0.044749  0.399870           0.872132   \n",
       "ln_size            0.154667  0.556169  0.410625           0.056951   \n",
       "age_mc             1.000000  0.060145  0.140737           0.052808   \n",
       "\n",
       "                   firm_involvement  degree_centrality     ic_fi     dc_fi  \\\n",
       "age                        0.076691           0.113960  0.077442  0.093194   \n",
       "size                       0.122566           0.180342  0.141680  0.181965   \n",
       "commits                    0.258966           0.681609  0.493937  0.648948   \n",
       "internal_cohesion          0.162765           0.602862  0.697853  0.503594   \n",
       "firm_involvement           1.000000           0.196396  0.459424  0.327735   \n",
       "degree_centrality          0.196396           1.000000  0.618581  0.891589   \n",
       "ic_fi                      0.459424           0.618581  1.000000  0.720671   \n",
       "dc_fi                      0.327735           0.891589  0.720671  1.000000   \n",
       "ic_n                       0.162765           0.602862  0.697853  0.503594   \n",
       "dc_n                       0.196396           1.000000  0.618581  0.891589   \n",
       "ic_fi_n                    0.459424           0.618581  1.000000  0.720671   \n",
       "dc_fi_n                    0.327735           0.891589  0.720671  1.000000   \n",
       "ln_commits                 0.341847           0.494856  0.309798  0.425437   \n",
       "ln_dc                      0.232124           0.681609  0.390578  0.531187   \n",
       "ln_ic                      0.259250           0.573858  0.654240  0.481099   \n",
       "ln_size                    0.215110           0.272165  0.150249  0.247844   \n",
       "age_mc                     0.076691           0.113960  0.077442  0.093194   \n",
       "\n",
       "                       ic_n      dc_n   ic_fi_n   dc_fi_n  ln_commits  \\\n",
       "age                0.052808  0.113960  0.077442  0.093194    0.344446   \n",
       "size               0.087518  0.180342  0.141680  0.181965    0.205850   \n",
       "commits            0.434678  0.681609  0.493937  0.648948    0.657448   \n",
       "internal_cohesion  1.000000  0.602862  0.697853  0.503594    0.250111   \n",
       "firm_involvement   0.162765  0.196396  0.459424  0.327735    0.341847   \n",
       "degree_centrality  0.602862  1.000000  0.618581  0.891589    0.494856   \n",
       "ic_fi              0.697853  0.618581  1.000000  0.720671    0.309798   \n",
       "dc_fi              0.503594  0.891589  0.720671  1.000000    0.425437   \n",
       "ic_n               1.000000  0.602862  0.697853  0.503594    0.250111   \n",
       "dc_n               0.602862  1.000000  0.618581  0.891589    0.494856   \n",
       "ic_fi_n            0.697853  0.618581  1.000000  0.720671    0.309798   \n",
       "dc_fi_n            0.503594  0.891589  0.720671  1.000000    0.425437   \n",
       "ln_commits         0.250111  0.494856  0.309798  0.425437    1.000000   \n",
       "ln_dc              0.409955  0.681609  0.390578  0.531187    0.535605   \n",
       "ln_ic              0.872132  0.573858  0.654240  0.481099    0.364252   \n",
       "ln_size            0.056951  0.272165  0.150249  0.247844    0.500501   \n",
       "age_mc             0.052808  0.113960  0.077442  0.093194    0.344446   \n",
       "\n",
       "                      ln_dc     ln_ic   ln_size    age_mc  \n",
       "age                0.190153  0.130325  0.154667  1.000000  \n",
       "size               0.093958  0.044749  0.556169  0.060145  \n",
       "commits            0.435823  0.399870  0.410625  0.140737  \n",
       "internal_cohesion  0.409955  0.872132  0.056951  0.052808  \n",
       "firm_involvement   0.232124  0.259250  0.215110  0.076691  \n",
       "degree_centrality  0.681609  0.573858  0.272165  0.113960  \n",
       "ic_fi              0.390578  0.654240  0.150249  0.077442  \n",
       "dc_fi              0.531187  0.481099  0.247844  0.093194  \n",
       "ic_n               0.409955  0.872132  0.056951  0.052808  \n",
       "dc_n               0.681609  0.573858  0.272165  0.113960  \n",
       "ic_fi_n            0.390578  0.654240  0.150249  0.077442  \n",
       "dc_fi_n            0.531187  0.481099  0.247844  0.093194  \n",
       "ln_commits         0.535605  0.364252  0.500501  0.344446  \n",
       "ln_dc              1.000000  0.584792  0.226493  0.190153  \n",
       "ln_ic              0.584792  1.000000  0.071043  0.130325  \n",
       "ln_size            0.226493  0.071043  1.000000  0.154667  \n",
       "age_mc             0.190153  0.130325  0.154667  1.000000  "
      ]
     },
     "execution_count": 29,
     "metadata": {},
     "output_type": "execute_result"
    }
   ],
   "source": [
    "sub_data.corr(method='pearson')"
   ]
  },
  {
   "cell_type": "code",
   "execution_count": 69,
   "metadata": {
    "collapsed": false,
    "nbpresent": {
     "id": "4b2b1f5b-21aa-4f4e-8c21-3cd97b54120f"
    }
   },
   "outputs": [
    {
     "data": {
      "text/html": [
       "<table class=\"simpletable\">\n",
       "<caption>OLS Regression Results</caption>\n",
       "<tr>\n",
       "  <th>Dep. Variable:</th>         <td>commits</td>     <th>  R-squared:         </th> <td>   0.485</td>\n",
       "</tr>\n",
       "<tr>\n",
       "  <th>Model:</th>                   <td>OLS</td>       <th>  Adj. R-squared:    </th> <td>   0.480</td>\n",
       "</tr>\n",
       "<tr>\n",
       "  <th>Method:</th>             <td>Least Squares</td>  <th>  F-statistic:       </th> <td>   110.4</td>\n",
       "</tr>\n",
       "<tr>\n",
       "  <th>Date:</th>             <td>Thu, 05 Jan 2017</td> <th>  Prob (F-statistic):</th> <td>4.13e-82</td>\n",
       "</tr>\n",
       "<tr>\n",
       "  <th>Time:</th>                 <td>23:54:45</td>     <th>  Log-Likelihood:    </th> <td> -4945.2</td>\n",
       "</tr>\n",
       "<tr>\n",
       "  <th>No. Observations:</th>      <td>   593</td>      <th>  AIC:               </th> <td>   9902.</td>\n",
       "</tr>\n",
       "<tr>\n",
       "  <th>Df Residuals:</th>          <td>   587</td>      <th>  BIC:               </th> <td>   9929.</td>\n",
       "</tr>\n",
       "<tr>\n",
       "  <th>Df Model:</th>              <td>     5</td>      <th>                     </th>     <td> </td>   \n",
       "</tr>\n",
       "<tr>\n",
       "  <th>Covariance Type:</th>      <td>nonrobust</td>    <th>                     </th>     <td> </td>   \n",
       "</tr>\n",
       "</table>\n",
       "<table class=\"simpletable\">\n",
       "<tr>\n",
       "              <td></td>                <th>coef</th>     <th>std err</th>      <th>t</th>      <th>P>|t|</th> <th>[95.0% Conf. Int.]</th> \n",
       "</tr>\n",
       "<tr>\n",
       "  <th>Intercept</th>                <td>  640.8468</td> <td>   61.332</td> <td>   10.449</td> <td> 0.000</td> <td>  520.389   761.304</td>\n",
       "</tr>\n",
       "<tr>\n",
       "  <th>firm_involvement[T.True]</th> <td>  236.5879</td> <td>  102.377</td> <td>    2.311</td> <td> 0.021</td> <td>   35.518   437.657</td>\n",
       "</tr>\n",
       "<tr>\n",
       "  <th>internal_cohesion_c</th>      <td>  -10.5962</td> <td>   48.044</td> <td>   -0.221</td> <td> 0.826</td> <td> -104.955    83.763</td>\n",
       "</tr>\n",
       "<tr>\n",
       "  <th>degree_centrality_c</th>      <td>    9.8741</td> <td>    2.208</td> <td>    4.472</td> <td> 0.000</td> <td>    5.537    14.211</td>\n",
       "</tr>\n",
       "<tr>\n",
       "  <th>ic_fi_c</th>                  <td>   55.2325</td> <td>   59.835</td> <td>    0.923</td> <td> 0.356</td> <td>  -62.284   172.749</td>\n",
       "</tr>\n",
       "<tr>\n",
       "  <th>dc_fi_c</th>                  <td>    6.2434</td> <td>    2.436</td> <td>    2.563</td> <td> 0.011</td> <td>    1.460    11.027</td>\n",
       "</tr>\n",
       "</table>\n",
       "<table class=\"simpletable\">\n",
       "<tr>\n",
       "  <th>Omnibus:</th>       <td>448.878</td> <th>  Durbin-Watson:     </th> <td>   2.114</td>\n",
       "</tr>\n",
       "<tr>\n",
       "  <th>Prob(Omnibus):</th> <td> 0.000</td>  <th>  Jarque-Bera (JB):  </th> <td>9796.214</td>\n",
       "</tr>\n",
       "<tr>\n",
       "  <th>Skew:</th>          <td> 3.132</td>  <th>  Prob(JB):          </th> <td>    0.00</td>\n",
       "</tr>\n",
       "<tr>\n",
       "  <th>Kurtosis:</th>      <td>21.901</td>  <th>  Cond. No.          </th> <td>    220.</td>\n",
       "</tr>\n",
       "</table>"
      ],
      "text/plain": [
       "<class 'statsmodels.iolib.summary.Summary'>\n",
       "\"\"\"\n",
       "                            OLS Regression Results                            \n",
       "==============================================================================\n",
       "Dep. Variable:                commits   R-squared:                       0.485\n",
       "Model:                            OLS   Adj. R-squared:                  0.480\n",
       "Method:                 Least Squares   F-statistic:                     110.4\n",
       "Date:                Thu, 05 Jan 2017   Prob (F-statistic):           4.13e-82\n",
       "Time:                        23:54:45   Log-Likelihood:                -4945.2\n",
       "No. Observations:                 593   AIC:                             9902.\n",
       "Df Residuals:                     587   BIC:                             9929.\n",
       "Df Model:                           5                                         \n",
       "Covariance Type:            nonrobust                                         \n",
       "============================================================================================\n",
       "                               coef    std err          t      P>|t|      [95.0% Conf. Int.]\n",
       "--------------------------------------------------------------------------------------------\n",
       "Intercept                  640.8468     61.332     10.449      0.000       520.389   761.304\n",
       "firm_involvement[T.True]   236.5879    102.377      2.311      0.021        35.518   437.657\n",
       "internal_cohesion_c        -10.5962     48.044     -0.221      0.826      -104.955    83.763\n",
       "degree_centrality_c          9.8741      2.208      4.472      0.000         5.537    14.211\n",
       "ic_fi_c                     55.2325     59.835      0.923      0.356       -62.284   172.749\n",
       "dc_fi_c                      6.2434      2.436      2.563      0.011         1.460    11.027\n",
       "==============================================================================\n",
       "Omnibus:                      448.878   Durbin-Watson:                   2.114\n",
       "Prob(Omnibus):                  0.000   Jarque-Bera (JB):             9796.214\n",
       "Skew:                           3.132   Prob(JB):                         0.00\n",
       "Kurtosis:                      21.901   Cond. No.                         220.\n",
       "==============================================================================\n",
       "\n",
       "Warnings:\n",
       "[1] Standard Errors assume that the covariance matrix of the errors is correctly specified.\n",
       "\"\"\""
      ]
     },
     "execution_count": 69,
     "metadata": {},
     "output_type": "execute_result"
    }
   ],
   "source": [
    "model = sm.formula.ols(formula='commits ~ internal_cohesion_c + degree_centrality_c + ic_fi_c + dc_fi_c + firm_involvement', data=sub_data)\n",
    "\n",
    "result = model.fit()\n",
    "result.summary()"
   ]
  },
  {
   "cell_type": "code",
   "execution_count": 70,
   "metadata": {
    "collapsed": false,
    "nbpresent": {
     "id": "5f6798ea-9049-4f2e-be8a-9243b2243e63"
    }
   },
   "outputs": [
    {
     "data": {
      "text/html": [
       "<table class=\"simpletable\">\n",
       "<caption>OLS Regression Results</caption>\n",
       "<tr>\n",
       "  <th>Dep. Variable:</th>         <td>commits</td>     <th>  R-squared:         </th> <td>   0.251</td> \n",
       "</tr>\n",
       "<tr>\n",
       "  <th>Model:</th>                   <td>OLS</td>       <th>  Adj. R-squared:    </th> <td>   0.247</td> \n",
       "</tr>\n",
       "<tr>\n",
       "  <th>Method:</th>             <td>Least Squares</td>  <th>  F-statistic:       </th> <td>   65.80</td> \n",
       "</tr>\n",
       "<tr>\n",
       "  <th>Date:</th>             <td>Thu, 05 Jan 2017</td> <th>  Prob (F-statistic):</th> <td>1.05e-36</td> \n",
       "</tr>\n",
       "<tr>\n",
       "  <th>Time:</th>                 <td>23:54:46</td>     <th>  Log-Likelihood:    </th> <td> -5056.0</td> \n",
       "</tr>\n",
       "<tr>\n",
       "  <th>No. Observations:</th>      <td>   593</td>      <th>  AIC:               </th> <td>1.012e+04</td>\n",
       "</tr>\n",
       "<tr>\n",
       "  <th>Df Residuals:</th>          <td>   589</td>      <th>  BIC:               </th> <td>1.014e+04</td>\n",
       "</tr>\n",
       "<tr>\n",
       "  <th>Df Model:</th>              <td>     3</td>      <th>                     </th>     <td> </td>    \n",
       "</tr>\n",
       "<tr>\n",
       "  <th>Covariance Type:</th>      <td>nonrobust</td>    <th>                     </th>     <td> </td>    \n",
       "</tr>\n",
       "</table>\n",
       "<table class=\"simpletable\">\n",
       "<tr>\n",
       "              <td></td>                <th>coef</th>     <th>std err</th>      <th>t</th>      <th>P>|t|</th> <th>[95.0% Conf. Int.]</th> \n",
       "</tr>\n",
       "<tr>\n",
       "  <th>Intercept</th>                <td>  652.7511</td> <td>   73.286</td> <td>    8.907</td> <td> 0.000</td> <td>  508.817   796.685</td>\n",
       "</tr>\n",
       "<tr>\n",
       "  <th>firm_involvement[T.True]</th> <td>  209.4370</td> <td>  121.565</td> <td>    1.723</td> <td> 0.085</td> <td>  -29.316   448.190</td>\n",
       "</tr>\n",
       "<tr>\n",
       "  <th>internal_cohesion_c</th>      <td>   64.4353</td> <td>   54.179</td> <td>    1.189</td> <td> 0.235</td> <td>  -41.972   170.842</td>\n",
       "</tr>\n",
       "<tr>\n",
       "  <th>ic_fi_c</th>                  <td>  331.2573</td> <td>   63.658</td> <td>    5.204</td> <td> 0.000</td> <td>  206.233   456.281</td>\n",
       "</tr>\n",
       "</table>\n",
       "<table class=\"simpletable\">\n",
       "<tr>\n",
       "  <th>Omnibus:</th>       <td>399.024</td> <th>  Durbin-Watson:     </th> <td>   1.869</td>\n",
       "</tr>\n",
       "<tr>\n",
       "  <th>Prob(Omnibus):</th> <td> 0.000</td>  <th>  Jarque-Bera (JB):  </th> <td>6995.601</td>\n",
       "</tr>\n",
       "<tr>\n",
       "  <th>Skew:</th>          <td> 2.710</td>  <th>  Prob(JB):          </th> <td>    0.00</td>\n",
       "</tr>\n",
       "<tr>\n",
       "  <th>Kurtosis:</th>      <td>18.929</td>  <th>  Cond. No.          </th> <td>    6.66</td>\n",
       "</tr>\n",
       "</table>"
      ],
      "text/plain": [
       "<class 'statsmodels.iolib.summary.Summary'>\n",
       "\"\"\"\n",
       "                            OLS Regression Results                            \n",
       "==============================================================================\n",
       "Dep. Variable:                commits   R-squared:                       0.251\n",
       "Model:                            OLS   Adj. R-squared:                  0.247\n",
       "Method:                 Least Squares   F-statistic:                     65.80\n",
       "Date:                Thu, 05 Jan 2017   Prob (F-statistic):           1.05e-36\n",
       "Time:                        23:54:46   Log-Likelihood:                -5056.0\n",
       "No. Observations:                 593   AIC:                         1.012e+04\n",
       "Df Residuals:                     589   BIC:                         1.014e+04\n",
       "Df Model:                           3                                         \n",
       "Covariance Type:            nonrobust                                         \n",
       "============================================================================================\n",
       "                               coef    std err          t      P>|t|      [95.0% Conf. Int.]\n",
       "--------------------------------------------------------------------------------------------\n",
       "Intercept                  652.7511     73.286      8.907      0.000       508.817   796.685\n",
       "firm_involvement[T.True]   209.4370    121.565      1.723      0.085       -29.316   448.190\n",
       "internal_cohesion_c         64.4353     54.179      1.189      0.235       -41.972   170.842\n",
       "ic_fi_c                    331.2573     63.658      5.204      0.000       206.233   456.281\n",
       "==============================================================================\n",
       "Omnibus:                      399.024   Durbin-Watson:                   1.869\n",
       "Prob(Omnibus):                  0.000   Jarque-Bera (JB):             6995.601\n",
       "Skew:                           2.710   Prob(JB):                         0.00\n",
       "Kurtosis:                      18.929   Cond. No.                         6.66\n",
       "==============================================================================\n",
       "\n",
       "Warnings:\n",
       "[1] Standard Errors assume that the covariance matrix of the errors is correctly specified.\n",
       "\"\"\""
      ]
     },
     "execution_count": 70,
     "metadata": {},
     "output_type": "execute_result"
    }
   ],
   "source": [
    "model2 = sm.formula.ols(formula='commits ~ internal_cohesion_c + ic_fi_c + firm_involvement', data=sub_data)\n",
    "result2 = model2.fit()\n",
    "result2.summary()"
   ]
  },
  {
   "cell_type": "code",
   "execution_count": 71,
   "metadata": {
    "collapsed": false,
    "nbpresent": {
     "id": "61beeb60-7fac-4dc5-a29a-6dd705876a5b"
    },
    "scrolled": true
   },
   "outputs": [
    {
     "data": {
      "text/html": [
       "<table class=\"simpletable\">\n",
       "<caption>OLS Regression Results</caption>\n",
       "<tr>\n",
       "  <th>Dep. Variable:</th>         <td>commits</td>     <th>  R-squared:         </th> <td>   0.483</td>\n",
       "</tr>\n",
       "<tr>\n",
       "  <th>Model:</th>                   <td>OLS</td>       <th>  Adj. R-squared:    </th> <td>   0.481</td>\n",
       "</tr>\n",
       "<tr>\n",
       "  <th>Method:</th>             <td>Least Squares</td>  <th>  F-statistic:       </th> <td>   183.6</td>\n",
       "</tr>\n",
       "<tr>\n",
       "  <th>Date:</th>             <td>Thu, 05 Jan 2017</td> <th>  Prob (F-statistic):</th> <td>5.00e-84</td>\n",
       "</tr>\n",
       "<tr>\n",
       "  <th>Time:</th>                 <td>23:54:46</td>     <th>  Log-Likelihood:    </th> <td> -4946.0</td>\n",
       "</tr>\n",
       "<tr>\n",
       "  <th>No. Observations:</th>      <td>   593</td>      <th>  AIC:               </th> <td>   9900.</td>\n",
       "</tr>\n",
       "<tr>\n",
       "  <th>Df Residuals:</th>          <td>   589</td>      <th>  BIC:               </th> <td>   9917.</td>\n",
       "</tr>\n",
       "<tr>\n",
       "  <th>Df Model:</th>              <td>     3</td>      <th>                     </th>     <td> </td>   \n",
       "</tr>\n",
       "<tr>\n",
       "  <th>Covariance Type:</th>      <td>nonrobust</td>    <th>                     </th>     <td> </td>   \n",
       "</tr>\n",
       "</table>\n",
       "<table class=\"simpletable\">\n",
       "<tr>\n",
       "              <td></td>                <th>coef</th>     <th>std err</th>      <th>t</th>      <th>P>|t|</th> <th>[95.0% Conf. Int.]</th> \n",
       "</tr>\n",
       "<tr>\n",
       "  <th>Intercept</th>                <td>  621.1077</td> <td>   58.474</td> <td>   10.622</td> <td> 0.000</td> <td>  506.266   735.950</td>\n",
       "</tr>\n",
       "<tr>\n",
       "  <th>firm_involvement[T.True]</th> <td>  281.6083</td> <td>   93.302</td> <td>    3.018</td> <td> 0.003</td> <td>   98.363   464.854</td>\n",
       "</tr>\n",
       "<tr>\n",
       "  <th>degree_centrality_c</th>      <td>    9.7040</td> <td>    2.068</td> <td>    4.691</td> <td> 0.000</td> <td>    5.642    13.766</td>\n",
       "</tr>\n",
       "<tr>\n",
       "  <th>dc_fi_c</th>                  <td>    7.2204</td> <td>    2.218</td> <td>    3.256</td> <td> 0.001</td> <td>    2.865    11.576</td>\n",
       "</tr>\n",
       "</table>\n",
       "<table class=\"simpletable\">\n",
       "<tr>\n",
       "  <th>Omnibus:</th>       <td>448.871</td> <th>  Durbin-Watson:     </th> <td>   2.112</td> \n",
       "</tr>\n",
       "<tr>\n",
       "  <th>Prob(Omnibus):</th> <td> 0.000</td>  <th>  Jarque-Bera (JB):  </th> <td>10154.712</td>\n",
       "</tr>\n",
       "<tr>\n",
       "  <th>Skew:</th>          <td> 3.117</td>  <th>  Prob(JB):          </th> <td>    0.00</td> \n",
       "</tr>\n",
       "<tr>\n",
       "  <th>Kurtosis:</th>      <td>22.291</td>  <th>  Cond. No.          </th> <td>    193.</td> \n",
       "</tr>\n",
       "</table>"
      ],
      "text/plain": [
       "<class 'statsmodels.iolib.summary.Summary'>\n",
       "\"\"\"\n",
       "                            OLS Regression Results                            \n",
       "==============================================================================\n",
       "Dep. Variable:                commits   R-squared:                       0.483\n",
       "Model:                            OLS   Adj. R-squared:                  0.481\n",
       "Method:                 Least Squares   F-statistic:                     183.6\n",
       "Date:                Thu, 05 Jan 2017   Prob (F-statistic):           5.00e-84\n",
       "Time:                        23:54:46   Log-Likelihood:                -4946.0\n",
       "No. Observations:                 593   AIC:                             9900.\n",
       "Df Residuals:                     589   BIC:                             9917.\n",
       "Df Model:                           3                                         \n",
       "Covariance Type:            nonrobust                                         \n",
       "============================================================================================\n",
       "                               coef    std err          t      P>|t|      [95.0% Conf. Int.]\n",
       "--------------------------------------------------------------------------------------------\n",
       "Intercept                  621.1077     58.474     10.622      0.000       506.266   735.950\n",
       "firm_involvement[T.True]   281.6083     93.302      3.018      0.003        98.363   464.854\n",
       "degree_centrality_c          9.7040      2.068      4.691      0.000         5.642    13.766\n",
       "dc_fi_c                      7.2204      2.218      3.256      0.001         2.865    11.576\n",
       "==============================================================================\n",
       "Omnibus:                      448.871   Durbin-Watson:                   2.112\n",
       "Prob(Omnibus):                  0.000   Jarque-Bera (JB):            10154.712\n",
       "Skew:                           3.117   Prob(JB):                         0.00\n",
       "Kurtosis:                      22.291   Cond. No.                         193.\n",
       "==============================================================================\n",
       "\n",
       "Warnings:\n",
       "[1] Standard Errors assume that the covariance matrix of the errors is correctly specified.\n",
       "\"\"\""
      ]
     },
     "execution_count": 71,
     "metadata": {},
     "output_type": "execute_result"
    }
   ],
   "source": [
    "model3 = sm.formula.ols(formula='commits ~ degree_centrality_c + dc_fi_c + firm_involvement', data=sub_data)\n",
    "result3 = model3.fit()\n",
    "result3.summary()"
   ]
  },
  {
   "cell_type": "markdown",
   "metadata": {},
   "source": [
    "Model of normalized internal cohesion, normalized degree centrality, moderation effect, fi"
   ]
  },
  {
   "cell_type": "code",
   "execution_count": 72,
   "metadata": {
    "collapsed": false,
    "nbpresent": {
     "id": "ed11b63d-e21b-44d6-bd73-334c0f659791"
    },
    "scrolled": true
   },
   "outputs": [
    {
     "data": {
      "text/html": [
       "<table class=\"simpletable\">\n",
       "<caption>OLS Regression Results</caption>\n",
       "<tr>\n",
       "  <th>Dep. Variable:</th>         <td>commits</td>     <th>  R-squared:         </th> <td>   0.485</td>\n",
       "</tr>\n",
       "<tr>\n",
       "  <th>Model:</th>                   <td>OLS</td>       <th>  Adj. R-squared:    </th> <td>   0.480</td>\n",
       "</tr>\n",
       "<tr>\n",
       "  <th>Method:</th>             <td>Least Squares</td>  <th>  F-statistic:       </th> <td>   110.4</td>\n",
       "</tr>\n",
       "<tr>\n",
       "  <th>Date:</th>             <td>Thu, 05 Jan 2017</td> <th>  Prob (F-statistic):</th> <td>4.13e-82</td>\n",
       "</tr>\n",
       "<tr>\n",
       "  <th>Time:</th>                 <td>23:54:46</td>     <th>  Log-Likelihood:    </th> <td> -4945.2</td>\n",
       "</tr>\n",
       "<tr>\n",
       "  <th>No. Observations:</th>      <td>   593</td>      <th>  AIC:               </th> <td>   9902.</td>\n",
       "</tr>\n",
       "<tr>\n",
       "  <th>Df Residuals:</th>          <td>   587</td>      <th>  BIC:               </th> <td>   9929.</td>\n",
       "</tr>\n",
       "<tr>\n",
       "  <th>Df Model:</th>              <td>     5</td>      <th>                     </th>     <td> </td>   \n",
       "</tr>\n",
       "<tr>\n",
       "  <th>Covariance Type:</th>      <td>nonrobust</td>    <th>                     </th>     <td> </td>   \n",
       "</tr>\n",
       "</table>\n",
       "<table class=\"simpletable\">\n",
       "<tr>\n",
       "              <td></td>                <th>coef</th>     <th>std err</th>      <th>t</th>      <th>P>|t|</th> <th>[95.0% Conf. Int.]</th> \n",
       "</tr>\n",
       "<tr>\n",
       "  <th>Intercept</th>                <td>  640.8468</td> <td>   61.332</td> <td>   10.449</td> <td> 0.000</td> <td>  520.389   761.304</td>\n",
       "</tr>\n",
       "<tr>\n",
       "  <th>firm_involvement[T.True]</th> <td>  236.5879</td> <td>  102.377</td> <td>    2.311</td> <td> 0.021</td> <td>   35.518   437.657</td>\n",
       "</tr>\n",
       "<tr>\n",
       "  <th>ic_n</th>                     <td> -191.2495</td> <td>  867.136</td> <td>   -0.221</td> <td> 0.826</td> <td>-1894.317  1511.818</td>\n",
       "</tr>\n",
       "<tr>\n",
       "  <th>dc_n</th>                     <td> 4581.5851</td> <td> 1024.609</td> <td>    4.472</td> <td> 0.000</td> <td> 2569.238  6593.932</td>\n",
       "</tr>\n",
       "<tr>\n",
       "  <th>ic_fi_n</th>                  <td>  996.8797</td> <td> 1079.947</td> <td>    0.923</td> <td> 0.356</td> <td>-1124.151  3117.910</td>\n",
       "</tr>\n",
       "<tr>\n",
       "  <th>dc_fi_n</th>                  <td> 2896.9485</td> <td> 1130.085</td> <td>    2.563</td> <td> 0.011</td> <td>  677.447  5116.450</td>\n",
       "</tr>\n",
       "</table>\n",
       "<table class=\"simpletable\">\n",
       "<tr>\n",
       "  <th>Omnibus:</th>       <td>448.878</td> <th>  Durbin-Watson:     </th> <td>   2.114</td>\n",
       "</tr>\n",
       "<tr>\n",
       "  <th>Prob(Omnibus):</th> <td> 0.000</td>  <th>  Jarque-Bera (JB):  </th> <td>9796.214</td>\n",
       "</tr>\n",
       "<tr>\n",
       "  <th>Skew:</th>          <td> 3.132</td>  <th>  Prob(JB):          </th> <td>    0.00</td>\n",
       "</tr>\n",
       "<tr>\n",
       "  <th>Kurtosis:</th>      <td>21.901</td>  <th>  Cond. No.          </th> <td>    44.2</td>\n",
       "</tr>\n",
       "</table>"
      ],
      "text/plain": [
       "<class 'statsmodels.iolib.summary.Summary'>\n",
       "\"\"\"\n",
       "                            OLS Regression Results                            \n",
       "==============================================================================\n",
       "Dep. Variable:                commits   R-squared:                       0.485\n",
       "Model:                            OLS   Adj. R-squared:                  0.480\n",
       "Method:                 Least Squares   F-statistic:                     110.4\n",
       "Date:                Thu, 05 Jan 2017   Prob (F-statistic):           4.13e-82\n",
       "Time:                        23:54:46   Log-Likelihood:                -4945.2\n",
       "No. Observations:                 593   AIC:                             9902.\n",
       "Df Residuals:                     587   BIC:                             9929.\n",
       "Df Model:                           5                                         \n",
       "Covariance Type:            nonrobust                                         \n",
       "============================================================================================\n",
       "                               coef    std err          t      P>|t|      [95.0% Conf. Int.]\n",
       "--------------------------------------------------------------------------------------------\n",
       "Intercept                  640.8468     61.332     10.449      0.000       520.389   761.304\n",
       "firm_involvement[T.True]   236.5879    102.377      2.311      0.021        35.518   437.657\n",
       "ic_n                      -191.2495    867.136     -0.221      0.826     -1894.317  1511.818\n",
       "dc_n                      4581.5851   1024.609      4.472      0.000      2569.238  6593.932\n",
       "ic_fi_n                    996.8797   1079.947      0.923      0.356     -1124.151  3117.910\n",
       "dc_fi_n                   2896.9485   1130.085      2.563      0.011       677.447  5116.450\n",
       "==============================================================================\n",
       "Omnibus:                      448.878   Durbin-Watson:                   2.114\n",
       "Prob(Omnibus):                  0.000   Jarque-Bera (JB):             9796.214\n",
       "Skew:                           3.132   Prob(JB):                         0.00\n",
       "Kurtosis:                      21.901   Cond. No.                         44.2\n",
       "==============================================================================\n",
       "\n",
       "Warnings:\n",
       "[1] Standard Errors assume that the covariance matrix of the errors is correctly specified.\n",
       "\"\"\""
      ]
     },
     "execution_count": 72,
     "metadata": {},
     "output_type": "execute_result"
    }
   ],
   "source": [
    "\n",
    "model = sm.formula.ols(formula='commits ~ ic_n + dc_n + ic_fi_n + dc_fi_n + firm_involvement', data=sub_data)\n",
    "\n",
    "result = model.fit()\n",
    "result.summary()"
   ]
  },
  {
   "cell_type": "code",
   "execution_count": 73,
   "metadata": {
    "collapsed": false,
    "scrolled": true
   },
   "outputs": [
    {
     "data": {
      "text/html": [
       "<table class=\"simpletable\">\n",
       "<caption>OLS Regression Results</caption>\n",
       "<tr>\n",
       "  <th>Dep. Variable:</th>         <td>commits</td>     <th>  R-squared:         </th> <td>   0.483</td>\n",
       "</tr>\n",
       "<tr>\n",
       "  <th>Model:</th>                   <td>OLS</td>       <th>  Adj. R-squared:    </th> <td>   0.481</td>\n",
       "</tr>\n",
       "<tr>\n",
       "  <th>Method:</th>             <td>Least Squares</td>  <th>  F-statistic:       </th> <td>   183.6</td>\n",
       "</tr>\n",
       "<tr>\n",
       "  <th>Date:</th>             <td>Thu, 05 Jan 2017</td> <th>  Prob (F-statistic):</th> <td>5.00e-84</td>\n",
       "</tr>\n",
       "<tr>\n",
       "  <th>Time:</th>                 <td>23:54:46</td>     <th>  Log-Likelihood:    </th> <td> -4946.0</td>\n",
       "</tr>\n",
       "<tr>\n",
       "  <th>No. Observations:</th>      <td>   593</td>      <th>  AIC:               </th> <td>   9900.</td>\n",
       "</tr>\n",
       "<tr>\n",
       "  <th>Df Residuals:</th>          <td>   589</td>      <th>  BIC:               </th> <td>   9917.</td>\n",
       "</tr>\n",
       "<tr>\n",
       "  <th>Df Model:</th>              <td>     3</td>      <th>                     </th>     <td> </td>   \n",
       "</tr>\n",
       "<tr>\n",
       "  <th>Covariance Type:</th>      <td>nonrobust</td>    <th>                     </th>     <td> </td>   \n",
       "</tr>\n",
       "</table>\n",
       "<table class=\"simpletable\">\n",
       "<tr>\n",
       "              <td></td>                <th>coef</th>     <th>std err</th>      <th>t</th>      <th>P>|t|</th> <th>[95.0% Conf. Int.]</th> \n",
       "</tr>\n",
       "<tr>\n",
       "  <th>Intercept</th>                <td>  621.1077</td> <td>   58.474</td> <td>   10.622</td> <td> 0.000</td> <td>  506.266   735.950</td>\n",
       "</tr>\n",
       "<tr>\n",
       "  <th>firm_involvement[T.True]</th> <td>  281.6083</td> <td>   93.302</td> <td>    3.018</td> <td> 0.003</td> <td>   98.363   464.854</td>\n",
       "</tr>\n",
       "<tr>\n",
       "  <th>dc_n</th>                     <td> 4502.6594</td> <td>  959.772</td> <td>    4.691</td> <td> 0.000</td> <td> 2617.667  6387.652</td>\n",
       "</tr>\n",
       "<tr>\n",
       "  <th>dc_fi_n</th>                  <td> 3350.2458</td> <td> 1029.010</td> <td>    3.256</td> <td> 0.001</td> <td> 1329.270  5371.222</td>\n",
       "</tr>\n",
       "</table>\n",
       "<table class=\"simpletable\">\n",
       "<tr>\n",
       "  <th>Omnibus:</th>       <td>448.871</td> <th>  Durbin-Watson:     </th> <td>   2.112</td> \n",
       "</tr>\n",
       "<tr>\n",
       "  <th>Prob(Omnibus):</th> <td> 0.000</td>  <th>  Jarque-Bera (JB):  </th> <td>10154.712</td>\n",
       "</tr>\n",
       "<tr>\n",
       "  <th>Skew:</th>          <td> 3.117</td>  <th>  Prob(JB):          </th> <td>    0.00</td> \n",
       "</tr>\n",
       "<tr>\n",
       "  <th>Kurtosis:</th>      <td>22.291</td>  <th>  Cond. No.          </th> <td>    36.9</td> \n",
       "</tr>\n",
       "</table>"
      ],
      "text/plain": [
       "<class 'statsmodels.iolib.summary.Summary'>\n",
       "\"\"\"\n",
       "                            OLS Regression Results                            \n",
       "==============================================================================\n",
       "Dep. Variable:                commits   R-squared:                       0.483\n",
       "Model:                            OLS   Adj. R-squared:                  0.481\n",
       "Method:                 Least Squares   F-statistic:                     183.6\n",
       "Date:                Thu, 05 Jan 2017   Prob (F-statistic):           5.00e-84\n",
       "Time:                        23:54:46   Log-Likelihood:                -4946.0\n",
       "No. Observations:                 593   AIC:                             9900.\n",
       "Df Residuals:                     589   BIC:                             9917.\n",
       "Df Model:                           3                                         \n",
       "Covariance Type:            nonrobust                                         \n",
       "============================================================================================\n",
       "                               coef    std err          t      P>|t|      [95.0% Conf. Int.]\n",
       "--------------------------------------------------------------------------------------------\n",
       "Intercept                  621.1077     58.474     10.622      0.000       506.266   735.950\n",
       "firm_involvement[T.True]   281.6083     93.302      3.018      0.003        98.363   464.854\n",
       "dc_n                      4502.6594    959.772      4.691      0.000      2617.667  6387.652\n",
       "dc_fi_n                   3350.2458   1029.010      3.256      0.001      1329.270  5371.222\n",
       "==============================================================================\n",
       "Omnibus:                      448.871   Durbin-Watson:                   2.112\n",
       "Prob(Omnibus):                  0.000   Jarque-Bera (JB):            10154.712\n",
       "Skew:                           3.117   Prob(JB):                         0.00\n",
       "Kurtosis:                      22.291   Cond. No.                         36.9\n",
       "==============================================================================\n",
       "\n",
       "Warnings:\n",
       "[1] Standard Errors assume that the covariance matrix of the errors is correctly specified.\n",
       "\"\"\""
      ]
     },
     "execution_count": 73,
     "metadata": {},
     "output_type": "execute_result"
    }
   ],
   "source": [
    "model = sm.formula.ols(formula='commits ~ dc_n + dc_fi_n + firm_involvement', data=sub_data)\n",
    "\n",
    "result = model.fit()\n",
    "result.summary()"
   ]
  },
  {
   "cell_type": "code",
   "execution_count": 74,
   "metadata": {
    "collapsed": false
   },
   "outputs": [
    {
     "data": {
      "text/html": [
       "<table class=\"simpletable\">\n",
       "<caption>OLS Regression Results</caption>\n",
       "<tr>\n",
       "  <th>Dep. Variable:</th>         <td>commits</td>     <th>  R-squared:         </th> <td>   0.251</td> \n",
       "</tr>\n",
       "<tr>\n",
       "  <th>Model:</th>                   <td>OLS</td>       <th>  Adj. R-squared:    </th> <td>   0.247</td> \n",
       "</tr>\n",
       "<tr>\n",
       "  <th>Method:</th>             <td>Least Squares</td>  <th>  F-statistic:       </th> <td>   65.80</td> \n",
       "</tr>\n",
       "<tr>\n",
       "  <th>Date:</th>             <td>Thu, 05 Jan 2017</td> <th>  Prob (F-statistic):</th> <td>1.05e-36</td> \n",
       "</tr>\n",
       "<tr>\n",
       "  <th>Time:</th>                 <td>23:54:46</td>     <th>  Log-Likelihood:    </th> <td> -5056.0</td> \n",
       "</tr>\n",
       "<tr>\n",
       "  <th>No. Observations:</th>      <td>   593</td>      <th>  AIC:               </th> <td>1.012e+04</td>\n",
       "</tr>\n",
       "<tr>\n",
       "  <th>Df Residuals:</th>          <td>   589</td>      <th>  BIC:               </th> <td>1.014e+04</td>\n",
       "</tr>\n",
       "<tr>\n",
       "  <th>Df Model:</th>              <td>     3</td>      <th>                     </th>     <td> </td>    \n",
       "</tr>\n",
       "<tr>\n",
       "  <th>Covariance Type:</th>      <td>nonrobust</td>    <th>                     </th>     <td> </td>    \n",
       "</tr>\n",
       "</table>\n",
       "<table class=\"simpletable\">\n",
       "<tr>\n",
       "              <td></td>                <th>coef</th>     <th>std err</th>      <th>t</th>      <th>P>|t|</th> <th>[95.0% Conf. Int.]</th> \n",
       "</tr>\n",
       "<tr>\n",
       "  <th>Intercept</th>                <td>  652.7511</td> <td>   73.286</td> <td>    8.907</td> <td> 0.000</td> <td>  508.817   796.685</td>\n",
       "</tr>\n",
       "<tr>\n",
       "  <th>firm_involvement[T.True]</th> <td>  209.4370</td> <td>  121.565</td> <td>    1.723</td> <td> 0.085</td> <td>  -29.316   448.190</td>\n",
       "</tr>\n",
       "<tr>\n",
       "  <th>ic_n</th>                     <td> 1162.9794</td> <td>  977.863</td> <td>    1.189</td> <td> 0.235</td> <td> -757.543  3083.501</td>\n",
       "</tr>\n",
       "<tr>\n",
       "  <th>ic_fi_n</th>                  <td> 5978.7967</td> <td> 1148.946</td> <td>    5.204</td> <td> 0.000</td> <td> 3722.267  8235.327</td>\n",
       "</tr>\n",
       "</table>\n",
       "<table class=\"simpletable\">\n",
       "<tr>\n",
       "  <th>Omnibus:</th>       <td>399.024</td> <th>  Durbin-Watson:     </th> <td>   1.869</td>\n",
       "</tr>\n",
       "<tr>\n",
       "  <th>Prob(Omnibus):</th> <td> 0.000</td>  <th>  Jarque-Bera (JB):  </th> <td>6995.601</td>\n",
       "</tr>\n",
       "<tr>\n",
       "  <th>Skew:</th>          <td> 2.710</td>  <th>  Prob(JB):          </th> <td>    0.00</td>\n",
       "</tr>\n",
       "<tr>\n",
       "  <th>Kurtosis:</th>      <td>18.929</td>  <th>  Cond. No.          </th> <td>    32.2</td>\n",
       "</tr>\n",
       "</table>"
      ],
      "text/plain": [
       "<class 'statsmodels.iolib.summary.Summary'>\n",
       "\"\"\"\n",
       "                            OLS Regression Results                            \n",
       "==============================================================================\n",
       "Dep. Variable:                commits   R-squared:                       0.251\n",
       "Model:                            OLS   Adj. R-squared:                  0.247\n",
       "Method:                 Least Squares   F-statistic:                     65.80\n",
       "Date:                Thu, 05 Jan 2017   Prob (F-statistic):           1.05e-36\n",
       "Time:                        23:54:46   Log-Likelihood:                -5056.0\n",
       "No. Observations:                 593   AIC:                         1.012e+04\n",
       "Df Residuals:                     589   BIC:                         1.014e+04\n",
       "Df Model:                           3                                         \n",
       "Covariance Type:            nonrobust                                         \n",
       "============================================================================================\n",
       "                               coef    std err          t      P>|t|      [95.0% Conf. Int.]\n",
       "--------------------------------------------------------------------------------------------\n",
       "Intercept                  652.7511     73.286      8.907      0.000       508.817   796.685\n",
       "firm_involvement[T.True]   209.4370    121.565      1.723      0.085       -29.316   448.190\n",
       "ic_n                      1162.9794    977.863      1.189      0.235      -757.543  3083.501\n",
       "ic_fi_n                   5978.7967   1148.946      5.204      0.000      3722.267  8235.327\n",
       "==============================================================================\n",
       "Omnibus:                      399.024   Durbin-Watson:                   1.869\n",
       "Prob(Omnibus):                  0.000   Jarque-Bera (JB):             6995.601\n",
       "Skew:                           2.710   Prob(JB):                         0.00\n",
       "Kurtosis:                      18.929   Cond. No.                         32.2\n",
       "==============================================================================\n",
       "\n",
       "Warnings:\n",
       "[1] Standard Errors assume that the covariance matrix of the errors is correctly specified.\n",
       "\"\"\""
      ]
     },
     "execution_count": 74,
     "metadata": {},
     "output_type": "execute_result"
    }
   ],
   "source": [
    "model = sm.formula.ols(formula='commits ~ ic_n + ic_fi_n + firm_involvement', data=sub_data)\n",
    "\n",
    "result = model.fit()\n",
    "result.summary()"
   ]
  },
  {
   "cell_type": "code",
   "execution_count": 26,
   "metadata": {
    "collapsed": false
   },
   "outputs": [
    {
     "data": {
      "text/html": [
       "<table class=\"simpletable\">\n",
       "<caption>OLS Regression Results</caption>\n",
       "<tr>\n",
       "  <th>Dep. Variable:</th>         <td>commits</td>     <th>  R-squared:         </th> <td>   0.536</td> \n",
       "</tr>\n",
       "<tr>\n",
       "  <th>Model:</th>                   <td>OLS</td>       <th>  Adj. R-squared:    </th> <td>   0.533</td> \n",
       "</tr>\n",
       "<tr>\n",
       "  <th>Method:</th>             <td>Least Squares</td>  <th>  F-statistic:       </th> <td>   163.2</td> \n",
       "</tr>\n",
       "<tr>\n",
       "  <th>Date:</th>             <td>Fri, 06 Jan 2017</td> <th>  Prob (F-statistic):</th> <td>4.56e-160</td>\n",
       "</tr>\n",
       "<tr>\n",
       "  <th>Time:</th>                 <td>01:39:09</td>     <th>  Log-Likelihood:    </th> <td> -8231.8</td> \n",
       "</tr>\n",
       "<tr>\n",
       "  <th>No. Observations:</th>      <td>   996</td>      <th>  AIC:               </th> <td>1.648e+04</td>\n",
       "</tr>\n",
       "<tr>\n",
       "  <th>Df Residuals:</th>          <td>   988</td>      <th>  BIC:               </th> <td>1.652e+04</td>\n",
       "</tr>\n",
       "<tr>\n",
       "  <th>Df Model:</th>              <td>     7</td>      <th>                     </th>     <td> </td>    \n",
       "</tr>\n",
       "<tr>\n",
       "  <th>Covariance Type:</th>      <td>nonrobust</td>    <th>                     </th>     <td> </td>    \n",
       "</tr>\n",
       "</table>\n",
       "<table class=\"simpletable\">\n",
       "<tr>\n",
       "              <td></td>                <th>coef</th>     <th>std err</th>      <th>t</th>      <th>P>|t|</th> <th>[95.0% Conf. Int.]</th> \n",
       "</tr>\n",
       "<tr>\n",
       "  <th>Intercept</th>                <td> -785.8945</td> <td>  133.107</td> <td>   -5.904</td> <td> 0.000</td> <td>-1047.099  -524.690</td>\n",
       "</tr>\n",
       "<tr>\n",
       "  <th>firm_involvement[T.True]</th> <td>  157.3881</td> <td>   72.264</td> <td>    2.178</td> <td> 0.030</td> <td>   15.580   299.196</td>\n",
       "</tr>\n",
       "<tr>\n",
       "  <th>ic_n</th>                     <td> 1293.3531</td> <td>  592.333</td> <td>    2.183</td> <td> 0.029</td> <td>  130.978  2455.728</td>\n",
       "</tr>\n",
       "<tr>\n",
       "  <th>ic_fi_n</th>                  <td>  112.1645</td> <td>  724.231</td> <td>    0.155</td> <td> 0.877</td> <td>-1309.043  1533.372</td>\n",
       "</tr>\n",
       "<tr>\n",
       "  <th>dc_n</th>                     <td> 4938.9215</td> <td>  706.493</td> <td>    6.991</td> <td> 0.000</td> <td> 3552.523  6325.320</td>\n",
       "</tr>\n",
       "<tr>\n",
       "  <th>dc_fi_n</th>                  <td> 2132.7174</td> <td>  806.354</td> <td>    2.645</td> <td> 0.008</td> <td>  550.355  3715.080</td>\n",
       "</tr>\n",
       "<tr>\n",
       "  <th>age_mc</th>                   <td>  207.8213</td> <td>  138.929</td> <td>    1.496</td> <td> 0.135</td> <td>  -64.808   480.450</td>\n",
       "</tr>\n",
       "<tr>\n",
       "  <th>ln_size</th>                  <td>  163.3509</td> <td>   16.030</td> <td>   10.190</td> <td> 0.000</td> <td>  131.894   194.808</td>\n",
       "</tr>\n",
       "</table>\n",
       "<table class=\"simpletable\">\n",
       "<tr>\n",
       "  <th>Omnibus:</th>       <td>936.894</td> <th>  Durbin-Watson:     </th> <td>   2.171</td> \n",
       "</tr>\n",
       "<tr>\n",
       "  <th>Prob(Omnibus):</th> <td> 0.000</td>  <th>  Jarque-Bera (JB):  </th> <td>52815.876</td>\n",
       "</tr>\n",
       "<tr>\n",
       "  <th>Skew:</th>          <td> 4.168</td>  <th>  Prob(JB):          </th> <td>    0.00</td> \n",
       "</tr>\n",
       "<tr>\n",
       "  <th>Kurtosis:</th>      <td>37.687</td>  <th>  Cond. No.          </th> <td>    318.</td> \n",
       "</tr>\n",
       "</table>"
      ],
      "text/plain": [
       "<class 'statsmodels.iolib.summary.Summary'>\n",
       "\"\"\"\n",
       "                            OLS Regression Results                            \n",
       "==============================================================================\n",
       "Dep. Variable:                commits   R-squared:                       0.536\n",
       "Model:                            OLS   Adj. R-squared:                  0.533\n",
       "Method:                 Least Squares   F-statistic:                     163.2\n",
       "Date:                Fri, 06 Jan 2017   Prob (F-statistic):          4.56e-160\n",
       "Time:                        01:39:09   Log-Likelihood:                -8231.8\n",
       "No. Observations:                 996   AIC:                         1.648e+04\n",
       "Df Residuals:                     988   BIC:                         1.652e+04\n",
       "Df Model:                           7                                         \n",
       "Covariance Type:            nonrobust                                         \n",
       "============================================================================================\n",
       "                               coef    std err          t      P>|t|      [95.0% Conf. Int.]\n",
       "--------------------------------------------------------------------------------------------\n",
       "Intercept                 -785.8945    133.107     -5.904      0.000     -1047.099  -524.690\n",
       "firm_involvement[T.True]   157.3881     72.264      2.178      0.030        15.580   299.196\n",
       "ic_n                      1293.3531    592.333      2.183      0.029       130.978  2455.728\n",
       "ic_fi_n                    112.1645    724.231      0.155      0.877     -1309.043  1533.372\n",
       "dc_n                      4938.9215    706.493      6.991      0.000      3552.523  6325.320\n",
       "dc_fi_n                   2132.7174    806.354      2.645      0.008       550.355  3715.080\n",
       "age_mc                     207.8213    138.929      1.496      0.135       -64.808   480.450\n",
       "ln_size                    163.3509     16.030     10.190      0.000       131.894   194.808\n",
       "==============================================================================\n",
       "Omnibus:                      936.894   Durbin-Watson:                   2.171\n",
       "Prob(Omnibus):                  0.000   Jarque-Bera (JB):            52815.876\n",
       "Skew:                           4.168   Prob(JB):                         0.00\n",
       "Kurtosis:                      37.687   Cond. No.                         318.\n",
       "==============================================================================\n",
       "\n",
       "Warnings:\n",
       "[1] Standard Errors assume that the covariance matrix of the errors is correctly specified.\n",
       "\"\"\""
      ]
     },
     "execution_count": 26,
     "metadata": {},
     "output_type": "execute_result"
    }
   ],
   "source": [
    "model = sm.formula.ols(formula='commits ~ ic_n + ic_fi_n + dc_n + dc_fi_n + firm_involvement + age_mc + ln_size', data=sub_data)\n",
    "\n",
    "result = model.fit()\n",
    "result.summary()"
   ]
  },
  {
   "cell_type": "code",
   "execution_count": 28,
   "metadata": {
    "collapsed": false
   },
   "outputs": [
    {
     "data": {
      "text/html": [
       "<table class=\"simpletable\">\n",
       "<caption>OLS Regression Results</caption>\n",
       "<tr>\n",
       "  <th>Dep. Variable:</th>         <td>commits</td>     <th>  R-squared:         </th> <td>   0.484</td> \n",
       "</tr>\n",
       "<tr>\n",
       "  <th>Model:</th>                   <td>OLS</td>       <th>  Adj. R-squared:    </th> <td>   0.482</td> \n",
       "</tr>\n",
       "<tr>\n",
       "  <th>Method:</th>             <td>Least Squares</td>  <th>  F-statistic:       </th> <td>   185.8</td> \n",
       "</tr>\n",
       "<tr>\n",
       "  <th>Date:</th>             <td>Fri, 06 Jan 2017</td> <th>  Prob (F-statistic):</th> <td>1.42e-139</td>\n",
       "</tr>\n",
       "<tr>\n",
       "  <th>Time:</th>                 <td>01:48:31</td>     <th>  Log-Likelihood:    </th> <td> -8284.9</td> \n",
       "</tr>\n",
       "<tr>\n",
       "  <th>No. Observations:</th>      <td>   996</td>      <th>  AIC:               </th> <td>1.658e+04</td>\n",
       "</tr>\n",
       "<tr>\n",
       "  <th>Df Residuals:</th>          <td>   990</td>      <th>  BIC:               </th> <td>1.661e+04</td>\n",
       "</tr>\n",
       "<tr>\n",
       "  <th>Df Model:</th>              <td>     5</td>      <th>                     </th>     <td> </td>    \n",
       "</tr>\n",
       "<tr>\n",
       "  <th>Covariance Type:</th>      <td>nonrobust</td>    <th>                     </th>     <td> </td>    \n",
       "</tr>\n",
       "</table>\n",
       "<table class=\"simpletable\">\n",
       "<tr>\n",
       "              <td></td>                <th>coef</th>     <th>std err</th>      <th>t</th>      <th>P>|t|</th> <th>[95.0% Conf. Int.]</th> \n",
       "</tr>\n",
       "<tr>\n",
       "  <th>Intercept</th>                <td>  514.2256</td> <td>   43.919</td> <td>   11.708</td> <td> 0.000</td> <td>  428.040   600.411</td>\n",
       "</tr>\n",
       "<tr>\n",
       "  <th>firm_involvement[T.True]</th> <td>  296.5168</td> <td>   74.862</td> <td>    3.961</td> <td> 0.000</td> <td>  149.611   443.422</td>\n",
       "</tr>\n",
       "<tr>\n",
       "  <th>ic_n</th>                     <td>  504.8116</td> <td>  619.136</td> <td>    0.815</td> <td> 0.415</td> <td> -710.158  1719.782</td>\n",
       "</tr>\n",
       "<tr>\n",
       "  <th>ic_fi_n</th>                  <td>  171.7966</td> <td>  762.919</td> <td>    0.225</td> <td> 0.822</td> <td>-1325.327  1668.920</td>\n",
       "</tr>\n",
       "<tr>\n",
       "  <th>dc_n</th>                     <td> 6452.3792</td> <td>  728.410</td> <td>    8.858</td> <td> 0.000</td> <td> 5022.974  7881.784</td>\n",
       "</tr>\n",
       "<tr>\n",
       "  <th>dc_fi_n</th>                  <td> 1564.8878</td> <td>  847.313</td> <td>    1.847</td> <td> 0.065</td> <td>  -97.847  3227.623</td>\n",
       "</tr>\n",
       "</table>\n",
       "<table class=\"simpletable\">\n",
       "<tr>\n",
       "  <th>Omnibus:</th>       <td>936.315</td> <th>  Durbin-Watson:     </th> <td>   2.124</td> \n",
       "</tr>\n",
       "<tr>\n",
       "  <th>Prob(Omnibus):</th> <td> 0.000</td>  <th>  Jarque-Bera (JB):  </th> <td>49802.243</td>\n",
       "</tr>\n",
       "<tr>\n",
       "  <th>Skew:</th>          <td> 4.189</td>  <th>  Prob(JB):          </th> <td>    0.00</td> \n",
       "</tr>\n",
       "<tr>\n",
       "  <th>Kurtosis:</th>      <td>36.614</td>  <th>  Cond. No.          </th> <td>    43.0</td> \n",
       "</tr>\n",
       "</table>"
      ],
      "text/plain": [
       "<class 'statsmodels.iolib.summary.Summary'>\n",
       "\"\"\"\n",
       "                            OLS Regression Results                            \n",
       "==============================================================================\n",
       "Dep. Variable:                commits   R-squared:                       0.484\n",
       "Model:                            OLS   Adj. R-squared:                  0.482\n",
       "Method:                 Least Squares   F-statistic:                     185.8\n",
       "Date:                Fri, 06 Jan 2017   Prob (F-statistic):          1.42e-139\n",
       "Time:                        01:48:31   Log-Likelihood:                -8284.9\n",
       "No. Observations:                 996   AIC:                         1.658e+04\n",
       "Df Residuals:                     990   BIC:                         1.661e+04\n",
       "Df Model:                           5                                         \n",
       "Covariance Type:            nonrobust                                         \n",
       "============================================================================================\n",
       "                               coef    std err          t      P>|t|      [95.0% Conf. Int.]\n",
       "--------------------------------------------------------------------------------------------\n",
       "Intercept                  514.2256     43.919     11.708      0.000       428.040   600.411\n",
       "firm_involvement[T.True]   296.5168     74.862      3.961      0.000       149.611   443.422\n",
       "ic_n                       504.8116    619.136      0.815      0.415      -710.158  1719.782\n",
       "ic_fi_n                    171.7966    762.919      0.225      0.822     -1325.327  1668.920\n",
       "dc_n                      6452.3792    728.410      8.858      0.000      5022.974  7881.784\n",
       "dc_fi_n                   1564.8878    847.313      1.847      0.065       -97.847  3227.623\n",
       "==============================================================================\n",
       "Omnibus:                      936.315   Durbin-Watson:                   2.124\n",
       "Prob(Omnibus):                  0.000   Jarque-Bera (JB):            49802.243\n",
       "Skew:                           4.189   Prob(JB):                         0.00\n",
       "Kurtosis:                      36.614   Cond. No.                         43.0\n",
       "==============================================================================\n",
       "\n",
       "Warnings:\n",
       "[1] Standard Errors assume that the covariance matrix of the errors is correctly specified.\n",
       "\"\"\""
      ]
     },
     "execution_count": 28,
     "metadata": {},
     "output_type": "execute_result"
    }
   ],
   "source": [
    "model = sm.formula.ols(formula='commits ~ ic_n + ic_fi_n + dc_n + dc_fi_n + firm_involvement', data=sub_data)\n",
    "\n",
    "result = model.fit()\n",
    "result.summary()"
   ]
  },
  {
   "cell_type": "code",
   "execution_count": null,
   "metadata": {
    "collapsed": true
   },
   "outputs": [],
   "source": []
  }
 ],
 "metadata": {
  "anaconda-cloud": {},
  "kernelspec": {
   "display_name": "Python 3",
   "language": "python",
   "name": "python3"
  },
  "language_info": {
   "codemirror_mode": {
    "name": "ipython",
    "version": 3
   },
   "file_extension": ".py",
   "mimetype": "text/x-python",
   "name": "python",
   "nbconvert_exporter": "python",
   "pygments_lexer": "ipython3",
   "version": "3.5.2"
  },
  "nbpresent": {
   "slides": {
    "131b9f6c-979f-4997-8204-70a29648f207": {
     "id": "131b9f6c-979f-4997-8204-70a29648f207",
     "prev": "c8dd2793-193d-4bbf-aac8-aaae15fe1f37",
     "regions": {
      "fbd272da-f2bd-43ce-a05e-5734a105eb4b": {
       "attrs": {
        "height": 0.8,
        "width": 0.8,
        "x": 0.1,
        "y": 0.1
       },
       "content": {
        "cell": "d2c3a18d-4c5f-4fb9-b234-8513e1bdeeb3",
        "part": "whole"
       },
       "id": "fbd272da-f2bd-43ce-a05e-5734a105eb4b"
      }
     }
    },
    "5f9c15e7-7ce5-48ce-9116-9f1ccc0e45bf": {
     "id": "5f9c15e7-7ce5-48ce-9116-9f1ccc0e45bf",
     "prev": "71f76bb9-83fe-4e9f-908e-4a6ba6a06166",
     "regions": {
      "71ba912f-7cb2-4d1f-9df8-9e30abc3cf55": {
       "attrs": {
        "height": 0.8,
        "width": 0.8,
        "x": 0.1,
        "y": 0.1
       },
       "content": {
        "cell": "a13e607b-514d-4586-833f-616476bcf271",
        "part": "whole"
       },
       "id": "71ba912f-7cb2-4d1f-9df8-9e30abc3cf55"
      }
     }
    },
    "71f76bb9-83fe-4e9f-908e-4a6ba6a06166": {
     "id": "71f76bb9-83fe-4e9f-908e-4a6ba6a06166",
     "prev": "b1f21002-5d28-4773-a785-b1cce42e644f",
     "regions": {
      "ab8bdf72-3c05-427e-9806-510cf72f0561": {
       "attrs": {
        "height": 0.8,
        "width": 0.8,
        "x": 0.1,
        "y": 0.1
       },
       "content": {
        "cell": "d14fc6a9-05ca-4df6-9b68-61f0da396c10",
        "part": "whole"
       },
       "id": "ab8bdf72-3c05-427e-9806-510cf72f0561"
      }
     }
    },
    "8fb35f64-dd73-409c-8ffd-4a9597cdfeb6": {
     "id": "8fb35f64-dd73-409c-8ffd-4a9597cdfeb6",
     "prev": "f7d5eb6b-0b54-47ee-b8d4-de9d6139e4c4",
     "regions": {
      "e162675f-c762-45c1-a6c5-c29d985c218c": {
       "attrs": {
        "height": 0.8,
        "width": 0.8,
        "x": 0.1,
        "y": 0.1
       },
       "content": {
        "cell": "ed11b63d-e21b-44d6-bd73-334c0f659791",
        "part": "whole"
       },
       "id": "e162675f-c762-45c1-a6c5-c29d985c218c"
      }
     }
    },
    "a170ffa3-c18d-4fe0-812a-d1e213fe0475": {
     "id": "a170ffa3-c18d-4fe0-812a-d1e213fe0475",
     "prev": "131b9f6c-979f-4997-8204-70a29648f207",
     "regions": {
      "5c666624-cd9c-40e5-abbd-f35274118274": {
       "attrs": {
        "height": 0.8,
        "width": 0.8,
        "x": 0.1,
        "y": 0.1
       },
       "content": {
        "cell": "5f6798ea-9049-4f2e-be8a-9243b2243e63",
        "part": "whole"
       },
       "id": "5c666624-cd9c-40e5-abbd-f35274118274"
      }
     }
    },
    "b1f21002-5d28-4773-a785-b1cce42e644f": {
     "id": "b1f21002-5d28-4773-a785-b1cce42e644f",
     "prev": null,
     "regions": {
      "c6b656d0-772f-4afb-85b5-b501ce1eae4f": {
       "attrs": {
        "height": 0.8,
        "width": 0.8,
        "x": 0.1,
        "y": 0.1
       },
       "content": {
        "cell": "11ac7301-47dc-46d0-b5d5-11481baf1bae",
        "part": "whole"
       },
       "id": "c6b656d0-772f-4afb-85b5-b501ce1eae4f"
      }
     }
    },
    "c8dd2793-193d-4bbf-aac8-aaae15fe1f37": {
     "id": "c8dd2793-193d-4bbf-aac8-aaae15fe1f37",
     "prev": "d0d186a0-7cdb-4ca1-b5bc-916ae2a3a927",
     "regions": {
      "6964a5e7-5219-42ec-82cd-7106cbb00438": {
       "attrs": {
        "height": 0.8,
        "width": 0.8,
        "x": 0.1,
        "y": 0.1
       },
       "content": {
        "cell": "4b2b1f5b-21aa-4f4e-8c21-3cd97b54120f",
        "part": "whole"
       },
       "id": "6964a5e7-5219-42ec-82cd-7106cbb00438"
      }
     }
    },
    "d0d186a0-7cdb-4ca1-b5bc-916ae2a3a927": {
     "id": "d0d186a0-7cdb-4ca1-b5bc-916ae2a3a927",
     "prev": "5f9c15e7-7ce5-48ce-9116-9f1ccc0e45bf",
     "regions": {
      "dafa5aac-761c-45e9-a9e3-45e0965e7d49": {
       "attrs": {
        "height": 0.8,
        "width": 0.8,
        "x": 0.1,
        "y": 0.1
       },
       "content": {
        "cell": "173cc8bc-4162-4065-9161-923c480f2ae2",
        "part": "whole"
       },
       "id": "dafa5aac-761c-45e9-a9e3-45e0965e7d49"
      }
     }
    },
    "f7d5eb6b-0b54-47ee-b8d4-de9d6139e4c4": {
     "id": "f7d5eb6b-0b54-47ee-b8d4-de9d6139e4c4",
     "prev": "a170ffa3-c18d-4fe0-812a-d1e213fe0475",
     "regions": {
      "3c0fca8c-d186-4330-8e94-19745a97ad1a": {
       "attrs": {
        "height": 0.8,
        "width": 0.8,
        "x": 0.1,
        "y": 0.1
       },
       "content": {
        "cell": "61beeb60-7fac-4dc5-a29a-6dd705876a5b",
        "part": "whole"
       },
       "id": "3c0fca8c-d186-4330-8e94-19745a97ad1a"
      }
     }
    }
   },
   "themes": {}
  }
 },
 "nbformat": 4,
 "nbformat_minor": 0
}
